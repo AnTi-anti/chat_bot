{
  "nbformat": 4,
  "nbformat_minor": 0,
  "metadata": {
    "colab": {
      "name": "1.7.ipynb",
      "provenance": []
    },
    "kernelspec": {
      "name": "python3",
      "display_name": "Python 3"
    },
    "accelerator": "GPU"
  },
  "cells": [
    {
      "cell_type": "markdown",
      "metadata": {
        "id": "npxgypQYMMz0",
        "colab_type": "text"
      },
      "source": [
        "### 第七课 VQA 视觉问答机器人"
      ]
    },
    {
      "cell_type": "markdown",
      "metadata": {
        "id": "pb_jeR9UMd72",
        "colab_type": "text"
      },
      "source": [
        "* 图灵测试"
      ]
    },
    {
      "cell_type": "markdown",
      "metadata": {
        "id": "7AjvhaG7XCAS",
        "colab_type": "text"
      },
      "source": [
        "### 实战"
      ]
    },
    {
      "cell_type": "markdown",
      "metadata": {
        "id": "54PzBsgUXIXn",
        "colab_type": "text"
      },
      "source": [
        "这里我们用Keras来实现这么一个VQA的模型\n",
        "\n",
        "你可以自由选择keras的backend，或者是theano或者是tensorflow\n",
        "\n",
        "这个project涉及到大量图片，建议使用GPU。\n",
        "\n",
        "本教程使用的是python3"
      ]
    },
    {
      "cell_type": "markdown",
      "metadata": {
        "id": "WVkoruYyXQpb",
        "colab_type": "text"
      },
      "source": [
        "#### 导入库"
      ]
    },
    {
      "cell_type": "code",
      "metadata": {
        "id": "XU7mVeoGL_jD",
        "colab_type": "code",
        "colab": {
          "base_uri": "https://localhost:8080/",
          "height": 71
        },
        "outputId": "ad330cb9-40ef-4fc5-e0d6-5799538f2666"
      },
      "source": [
        "import sys\n",
        "from random import shuffle\n",
        "import argparse\n",
        " \n",
        "import numpy as np\n",
        "import scipy.io\n",
        " \n",
        "from keras.models import Sequential\n",
        "from keras.layers.core import Dense, Dropout, Activation\n",
        "from keras.optimizers import SGD\n",
        "from keras.utils import np_utils, generic_utils\n",
        " \n",
        "from sklearn import preprocessing\n",
        "from sklearn.externals import joblib\n",
        " \n",
        "import spacy\n",
        "spacy.load('en_core_web_sm')\n",
        "from spacy.lang.en import English"
      ],
      "execution_count": 1,
      "outputs": [
        {
          "output_type": "stream",
          "text": [
            "/usr/local/lib/python3.6/dist-packages/sklearn/externals/joblib/__init__.py:15: FutureWarning: sklearn.externals.joblib is deprecated in 0.21 and will be removed in 0.23. Please import this functionality directly from joblib, which can be installed with: pip install joblib. If this warning is raised when loading pickled models, you may need to re-serialize those models with scikit-learn 0.21+.\n",
            "  warnings.warn(msg, category=FutureWarning)\n"
          ],
          "name": "stderr"
        }
      ]
    },
    {
      "cell_type": "markdown",
      "metadata": {
        "id": "S06pD8faY86c",
        "colab_type": "text"
      },
      "source": [
        "#### 下载并预处理素材\n",
        "\n",
        "训练VQA，首先得需要一套用来训练的材料。\n",
        "\n",
        "这里：http://www.visualqa.org/\n",
        "\n",
        "给出了所有所需的素材，数据，等等。\n",
        "\n",
        "所有的数据都是原始数据，所以我们需要做一点初始化，来把数据变成标准的结构，便于我们日后拿出来处理。\n",
        "\n",
        "`preprocess.py` 这个方法就是用来一步到位预处理所有数据的：（相关原理和方法，在NLP基础课上讲过，这里不赘述）\n",
        "\n",
        "通过这个方法，我们把所有问题/回答/对应图片给联系起来，用他们各自的“ID”代码来表示。\n",
        "\n",
        "这样，我们只需要三个txt文档，就可以存下这么一个对应关系了。\n",
        "\n",
        "data文件来源如：\n",
        "\n",
        "* https://github.com/deepsidhpura777/Visual-Question-Answering-Using-CNN-LSTM-based-Stacked-Attention-Model"
      ]
    },
    {
      "cell_type": "code",
      "metadata": {
        "id": "sC_lvvnSMRRY",
        "colab_type": "code",
        "colab": {}
      },
      "source": [
        "questions_train = open('/content/drive/My Drive/VQA/questions_train2014.txt', 'r').read().splitlines()\n",
        "answers_train = open('/content/drive/My Drive/VQA/answers_train2014_modal.txt', 'r').read().splitlines()\n",
        "images_train = open('/content/drive/My Drive/VQA/images_train2014.txt', 'r').read().splitlines()"
      ],
      "execution_count": 2,
      "outputs": []
    },
    {
      "cell_type": "markdown",
      "metadata": {
        "id": "8ppcduhhgC3W",
        "colab_type": "text"
      },
      "source": [
        "### 对应回答的处理\n",
        "\n",
        "根据课上讲解的内容，\n",
        "\n",
        "我们把“看到一个图就能回答所有问题”这么一个看起来玄幻的目标，\n",
        "\n",
        "简化成“从1000个最有可能的回答中，找到最符合图片的答案”这个样式。\n",
        "\n",
        "也就是把一个开放AI问题，转化成了`multi-class`的分类问题。\n",
        "\n",
        "好，我们来选取最popular的1000个问答："
      ]
    },
    {
      "cell_type": "code",
      "metadata": {
        "id": "E78dN9glMRYn",
        "colab_type": "code",
        "colab": {}
      },
      "source": [
        "import operator\n",
        "from collections import defaultdict"
      ],
      "execution_count": 3,
      "outputs": []
    },
    {
      "cell_type": "code",
      "metadata": {
        "id": "voUbSYHhMRhD",
        "colab_type": "code",
        "colab": {}
      },
      "source": [
        "max_answers = 1000# 设定最多选取多少个回答\n",
        "answer_fq= defaultdict(int)\n",
        "# 并为所有的问答，构造一个字典dict\n",
        "for answer in answers_train:\n",
        "    answer_fq[answer] += 1"
      ],
      "execution_count": 4,
      "outputs": []
    },
    {
      "cell_type": "code",
      "metadata": {
        "id": "0G7e6FguMRkh",
        "colab_type": "code",
        "colab": {}
      },
      "source": [
        "# 按照出现次数，排序,选出前1000个出现频率最高的答案\n",
        "sorted_fq = sorted(answer_fq.items(), key=operator.itemgetter(1), reverse=True)[0:max_answers]\n",
        "top_answers, top_fq = zip(*sorted_fq)"
      ],
      "execution_count": 5,
      "outputs": []
    },
    {
      "cell_type": "code",
      "metadata": {
        "id": "Lk87f8sRMRWR",
        "colab_type": "code",
        "colab": {}
      },
      "source": [
        "new_answers_train=[]\n",
        "new_questions_train=[]\n",
        "new_images_train=[]\n",
        "# 只提取top 1000问答相关\n",
        "for answer,question,image in zip(answers_train, questions_train, images_train):\n",
        "    if answer in top_answers:\n",
        "        new_answers_train.append(answer)\n",
        "        new_questions_train.append(question)\n",
        "        new_images_train.append(image)\n",
        " \n",
        "# 把新的数据赋值,这时候的数据由前1000个出现频率最高的答案所选出来\n",
        "questions_train = new_questions_train\n",
        "answers_train = new_answers_train\n",
        "images_train = new_images_train"
      ],
      "execution_count": 6,
      "outputs": []
    },
    {
      "cell_type": "markdown",
      "metadata": {
        "id": "zclnSE83hzP6",
        "colab_type": "text"
      },
      "source": [
        "接下来，我们把所有的1000个答案给编号。\n",
        "\n",
        "这样我们选取某个答案的时候，就不用使用“全称”，可以使用他们的label。\n",
        "\n",
        "我们简单用到`sklearn`的`preprocessing`功能来赋值label。\n",
        "\n",
        "当然，我们之后一直需要使用这个一一对应的label，所以我们存下来。"
      ]
    },
    {
      "cell_type": "code",
      "metadata": {
        "id": "NVZYxgWeMRUQ",
        "colab_type": "code",
        "colab": {
          "base_uri": "https://localhost:8080/",
          "height": 34
        },
        "outputId": "fdfb5d1f-42ef-482b-caa7-619374721feb"
      },
      "source": [
        "labelencoder = preprocessing.LabelEncoder()\n",
        "labelencoder.fit(answers_train)\n",
        "nb_classes = len(list(labelencoder.classes_))\n",
        "joblib.dump(labelencoder,'/content/drive/My Drive/VQA/labelencoder.pkl')"
      ],
      "execution_count": 7,
      "outputs": [
        {
          "output_type": "execute_result",
          "data": {
            "text/plain": [
              "['/content/drive/My Drive/VQA/labelencoder.pkl']"
            ]
          },
          "metadata": {
            "tags": []
          },
          "execution_count": 7
        }
      ]
    },
    {
      "cell_type": "markdown",
      "metadata": {
        "id": "m6lEYYATijlM",
        "colab_type": "text"
      },
      "source": [
        "这个labelencoder怎么用？\n",
        "\n",
        "我们写一个method，可以把所有的answers转化成数字化的label\n",
        "\n"
      ]
    },
    {
      "cell_type": "code",
      "metadata": {
        "id": "B5_aoKTHL_lu",
        "colab_type": "code",
        "colab": {}
      },
      "source": [
        "def get_answers_matrix(answers, encoder):\n",
        "    # string转化成数字化表达\n",
        "    y = encoder.transform(answers) \n",
        "    nb_classes = encoder.classes_.shape[0]\n",
        "    Y = np_utils.to_categorical(y, nb_classes)\n",
        "    # 并构造成标准的matrix\n",
        "    return Y"
      ],
      "execution_count": 9,
      "outputs": []
    },
    {
      "cell_type": "markdown",
      "metadata": {
        "id": "3kkcNSXGitwy",
        "colab_type": "text"
      },
      "source": [
        "### input图片的处理\n",
        "\n",
        "这里，我们使用工业/学术上都很耀眼的`VGG CNN`来提取图片的特征。\n",
        "\n",
        "我们这里，直接运用已经成熟训练好的VGG CNN模型，直接下载，并导入，\n",
        "\n",
        "因为我们用的是标准MSCOCO图片库，所以对应的标准VGG已经训练完备。\n",
        "\n",
        "详见：http://mscoco.org/\n",
        "\n",
        "http://cs.stanford.edu/people/karpathy/deepimagesent\n",
        "\n",
        "用这个方法，我们把input图片的features一步到位地取出来。\n",
        "\n",
        "文件地址：https://github.com/ZhenguoChen/Neural-Network-Image-Captioning"
      ]
    },
    {
      "cell_type": "code",
      "metadata": {
        "id": "OYCiIJcXL_qn",
        "colab_type": "code",
        "colab": {}
      },
      "source": [
        "# 导入下载好的vgg_fearures (这是个matlab的文档，没关系，scipy可以读取)\n",
        "vgg_model_path = '/content/drive/My Drive/VQA/vgg_feats.mat'"
      ],
      "execution_count": 10,
      "outputs": []
    },
    {
      "cell_type": "code",
      "metadata": {
        "id": "_KgZd3XwmZuk",
        "colab_type": "code",
        "colab": {}
      },
      "source": [
        "# 读入VGG features\n",
        "features_struct = scipy.io.loadmat(vgg_model_path)\n",
        "VGGfeatures = features_struct['feats']"
      ],
      "execution_count": 11,
      "outputs": []
    },
    {
      "cell_type": "code",
      "metadata": {
        "id": "KP0B2BPfjZPZ",
        "colab_type": "code",
        "colab": {}
      },
      "source": [
        "# data source:https://raw.githubusercontent.com/architsharma97/VisualQA/4c6da4cb73936ffa271139dda215fd4cd261c495/Data/Coco/coco_vgg_IDMap.txt\n",
        "# 跟图片一一对应\n",
        "image_ids = open('/content/drive/My Drive/VQA/coco_vgg_IDMap.txt').read().splitlines()"
      ],
      "execution_count": 12,
      "outputs": []
    },
    {
      "cell_type": "code",
      "metadata": {
        "id": "iG8xScsAjZhE",
        "colab_type": "code",
        "colab": {}
      },
      "source": [
        "id_map = {}\n",
        "for ids in image_ids:\n",
        "    id_split = ids.split()\n",
        "    id_map[id_split[0]] = int(id_split[1])"
      ],
      "execution_count": 13,
      "outputs": []
    },
    {
      "cell_type": "markdown",
      "metadata": {
        "id": "8KCNfVLnt3RN",
        "colab_type": "text"
      },
      "source": [
        "这时候，我们再写一个method，\n",
        "\n",
        "是用来取得任何一个input图片的“数字化表达形式”的，也就是一个matrix\n",
        "\n",
        "这个matrix是由vgg扫过/处理图片以后，再加一层flatten得到的4096维的数组，我们称之为CNN Features"
      ]
    },
    {
      "cell_type": "code",
      "metadata": {
        "id": "hXrP-yfYjZoX",
        "colab_type": "code",
        "colab": {}
      },
      "source": [
        "def get_images_matrix(img_coco_ids, img_map, VGGfeatures):\n",
        "  nb_samples = len(img_coco_ids)\n",
        "  nb_dimensions = VGGfeatures.shape[0]\n",
        "  image_matrix = np.zeros((nb_samples, nb_dimensions))\n",
        "  for j in range(len(img_coco_ids)):\n",
        "    image_matrix[j,:] = VGGfeatures[:,img_map[img_coco_ids[j]]]\n",
        "  return image_matrix"
      ],
      "execution_count": 14,
      "outputs": []
    },
    {
      "cell_type": "markdown",
      "metadata": {
        "id": "RTm-qUhzuDye",
        "colab_type": "text"
      },
      "source": [
        "#### 提问问题的处理\n",
        "\n",
        "接下来，是文字部分。\n",
        "\n",
        "我们用SpaCy自带的英文模型。\n",
        "\n",
        "把问句中的所有英文转化为vector，并平均化整个句子。\n",
        "\n",
        "这个本质上就是我们NLP基础课上讲过的word2vec"
      ]
    },
    {
      "cell_type": "code",
      "metadata": {
        "id": "73lZH0lgjZmN",
        "colab_type": "code",
        "colab": {}
      },
      "source": [
        "nlp = English()# 载入Spacy的英语库\n",
        "img_dim = 4096# 图片的维度大小\n",
        "word_vec_dim = 300# 句子/单词的维度大小\n",
        " \n",
        "# 这个method就是用来计算句子中所有word vector的总和，\n",
        "# 目的在于把我们的文字用数字表示\n",
        "\n",
        "def get_questions_matrix_sum(questions, nlp):\n",
        "    # assert not isinstance(questions, basestring)\n",
        "    nb_samples = len(questions)\n",
        "    word_vec_dim = nlp(questions[0])[0].vector.shape[0]\n",
        "    questions_matrix = np.zeros((nb_samples, word_vec_dim))\n",
        "    for i in range(len(questions)):\n",
        "        tokens = nlp(questions[i])\n",
        "        for j in range(len(tokens)):\n",
        "            questions_matrix[i,:] += tokens[j].vector\n",
        "    return questions_matrix"
      ],
      "execution_count": 15,
      "outputs": []
    },
    {
      "cell_type": "markdown",
      "metadata": {
        "id": "L0HP0ww-ueKw",
        "colab_type": "text"
      },
      "source": [
        "#### VQA模型：MLP\n",
        "我们来建立我们最简单版本的MLP模型\n",
        "\n",
        "也就是普通的神经网络模型\n",
        "\n",
        "注意：我这里就跑了1个epoch，只是为了Demo，真实场景中，这显然是不够的, 大家可以试试100次。\n",
        "\n"
      ]
    },
    {
      "cell_type": "code",
      "metadata": {
        "id": "ItsAgtfnjZkP",
        "colab_type": "code",
        "colab": {}
      },
      "source": [
        "# 参数们\n",
        "num_hidden_units = 1024\n",
        "num_hidden_layers = 3\n",
        "dropout = 0.5\n",
        "activation = 'tanh'\n",
        "# 注意：我这里就跑了1个epoch，\n",
        "# 只是为了Demo，\n",
        "# 真实场景中，\n",
        "# 这显然是不够的\n",
        "# 大家可以试试100次。\n",
        "num_epochs = 1\n",
        "model_save_interval = 10\n",
        "batch_size = 128\n",
        " \n",
        "# MLP之建造\n",
        "# 输入层\n",
        "model = Sequential()\n",
        "model.add(Dense(num_hidden_units, input_dim=img_dim+word_vec_dim, kernel_initializer='uniform'))\n",
        "model.add(Activation(activation))\n",
        "model.add(Dropout(dropout))\n",
        "# 中间层\n",
        "for i in range(num_hidden_layers-1):\n",
        "    model.add(Dense(num_hidden_units, kernel_initializer='uniform'))\n",
        "    model.add(Activation(activation))\n",
        "    model.add(Dropout(dropout))\n",
        "# 输出层\n",
        "model.add(Dense(nb_classes, kernel_initializer='uniform'))\n",
        "model.add(Activation('softmax'))"
      ],
      "execution_count": 16,
      "outputs": []
    },
    {
      "cell_type": "markdown",
      "metadata": {
        "id": "N060wR1GuoVQ",
        "colab_type": "text"
      },
      "source": [
        "如果以上的代码还不够清晰的话，\n",
        " \n",
        "我们来吧构造的模型打印出来看看：\n"
      ]
    },
    {
      "cell_type": "code",
      "metadata": {
        "id": "W___2ebEjZfV",
        "colab_type": "code",
        "colab": {
          "base_uri": "https://localhost:8080/",
          "height": 1000
        },
        "outputId": "cc44c32c-4358-4540-e52f-51c8ad8e1dbc"
      },
      "source": [
        "from keras.utils.vis_utils import plot_model\n",
        "plot_model(model, to_file='/content/drive/My Drive/VQA/model_mlp.png', show_shapes=True)\n",
        "from IPython.display import Image\n",
        "Image(filename='/content/drive/My Drive/VQA/model_mlp.png') "
      ],
      "execution_count": 17,
      "outputs": [
        {
          "output_type": "execute_result",
          "data": {
            "image/png": "[encoded data removed]",
            "text/plain": [
              "<IPython.core.display.Image object>"
            ]
          },
          "metadata": {
            "tags": []
          },
          "execution_count": 17
        }
      ]
    },
    {
      "cell_type": "markdown",
      "metadata": {
        "id": "YEmTJESPu7qz",
        "colab_type": "text"
      },
      "source": [
        "好接下来，我们做一个保存的动作。\n",
        "\n",
        "训练大规模网络的时候，这是一种比较保险的举措，即可以让我们回测数据，也可以在紧急情况下及时返回保存过了的模型"
      ]
    },
    {
      "cell_type": "code",
      "metadata": {
        "id": "b7Li_jPdjZc1",
        "colab_type": "code",
        "colab": {}
      },
      "source": [
        "json_string = model.to_json()\n",
        "model_file_name = '/content/drive/My Drive/VQA/mlp_num_hidden_units_' + str(num_hidden_units) + '_num_hidden_layers_' + str(num_hidden_layers)\n",
        "open(model_file_name  + '.json', 'w').write(json_string)\n",
        "# compile模型\n",
        "model.compile(loss='categorical_crossentropy', optimizer='rmsprop')"
      ],
      "execution_count": 18,
      "outputs": []
    },
    {
      "cell_type": "markdown",
      "metadata": {
        "id": "PzBmJFUSvINK",
        "colab_type": "text"
      },
      "source": [
        "在训练之前，我们还需要一个chunk list的方法，来把我们原始的数据分成一组一组的形式\n",
        "\n",
        "为了我们之后的batch training做准备"
      ]
    },
    {
      "cell_type": "code",
      "metadata": {
        "id": "pvqEVtF6jZaZ",
        "colab_type": "code",
        "colab": {}
      },
      "source": [
        "# 这是一个标准的chunk list方法\n",
        "#  \"grouper(3, 'abcdefg', 'x') --> ('a','b','c'), ('d','e','f'), ('g','x','x')\"\n",
        "from itertools import zip_longest\n",
        "def grouper(iterable, n, fillvalue=None):\n",
        "    args = [iter(iterable)] * n\n",
        "    return zip_longest(*args, fillvalue=fillvalue)"
      ],
      "execution_count": 19,
      "outputs": []
    },
    {
      "cell_type": "markdown",
      "metadata": {
        "id": "XDnzb4_yvczs",
        "colab_type": "text"
      },
      "source": [
        "可以开始训练了！\n",
        "\n",
        "代码非常直观："
      ]
    },
    {
      "cell_type": "code",
      "metadata": {
        "id": "eG-UGmI0jZUp",
        "colab_type": "code",
        "colab": {
          "base_uri": "https://localhost:8080/",
          "height": 352
        },
        "outputId": "9e977fe2-e9d2-4cfb-d378-e213297054b8"
      },
      "source": [
        "for k in range(num_epochs):\n",
        "    # 给数据洗个牌先\n",
        "    index_shuf = [i for i in range(len(questions_train))]\n",
        "    shuffle(index_shuf)\n",
        "    # 一一取出 问题，答案，和图片\n",
        "    questions_train = [questions_train[i] for i in index_shuf]\n",
        "    answers_train = [answers_train[i] for i in index_shuf]\n",
        "    images_train = [images_train[i] for i in index_shuf]\n",
        "    # 这就是个显示训练状态的bar，不写也没事，keras是默认有这个bar的\n",
        "    # 但是如果你需要做一些customize的话，就可以在这个progbar上做文章\n",
        "    progbar = generic_utils.Progbar(len(questions_train))\n",
        "    # batch分组\n",
        "    for qu_batch,an_batch,im_batch in zip(grouper(questions_train, batch_size, fillvalue=questions_train[-1]), \n",
        "                                        grouper(answers_train, batch_size, fillvalue=answers_train[-1]), \n",
        "                                        grouper(images_train, batch_size, fillvalue=images_train[-1])):\n",
        "        X_q_batch = get_questions_matrix_sum(qu_batch, nlp)\n",
        "        X_i_batch = get_images_matrix(im_batch, id_map, VGGfeatures)\n",
        "        X_batch = np.hstack((X_q_batch, X_i_batch))\n",
        "        Y_batch = get_answers_matrix(an_batch, labelencoder)\n",
        "        loss = model.train_on_batch(X_batch, Y_batch)\n",
        "        progbar.add(batch_size, values=[(\"train loss\", loss)])\n",
        "    # 并且告诉模型，隔多久，存一次模型，比如这里，model_save_interval是10\n",
        "    if k % model_save_interval == 0:\n",
        "        model.save_weights(model_file_name + '_epoch_{:02d}.hdf5'.format(k))\n",
        "# 顺手把最终的模型也存下来\n",
        "model.save_weights(model_file_name + '_epoch_{:02d}.hdf5'.format(k))"
      ],
      "execution_count": 20,
      "outputs": [
        {
          "output_type": "error",
          "ename": "IndexError",
          "evalue": "ignored",
          "traceback": [
            "\u001b[0;31m---------------------------------------------------------------------------\u001b[0m",
            "\u001b[0;31mIndexError\u001b[0m                                Traceback (most recent call last)",
            "\u001b[0;32m<ipython-input-20-c46f22a8c711>\u001b[0m in \u001b[0;36m<module>\u001b[0;34m()\u001b[0m\n\u001b[1;32m     15\u001b[0m                                         grouper(images_train, batch_size, fillvalue=images_train[-1])):\n\u001b[1;32m     16\u001b[0m         \u001b[0mX_q_batch\u001b[0m \u001b[0;34m=\u001b[0m \u001b[0mget_questions_matrix_sum\u001b[0m\u001b[0;34m(\u001b[0m\u001b[0mqu_batch\u001b[0m\u001b[0;34m,\u001b[0m \u001b[0mnlp\u001b[0m\u001b[0;34m)\u001b[0m\u001b[0;34m\u001b[0m\u001b[0;34m\u001b[0m\u001b[0m\n\u001b[0;32m---> 17\u001b[0;31m         \u001b[0mX_i_batch\u001b[0m \u001b[0;34m=\u001b[0m \u001b[0mget_images_matrix\u001b[0m\u001b[0;34m(\u001b[0m\u001b[0mim_batch\u001b[0m\u001b[0;34m,\u001b[0m \u001b[0mid_map\u001b[0m\u001b[0;34m,\u001b[0m \u001b[0mVGGfeatures\u001b[0m\u001b[0;34m)\u001b[0m\u001b[0;34m\u001b[0m\u001b[0;34m\u001b[0m\u001b[0m\n\u001b[0m\u001b[1;32m     18\u001b[0m         \u001b[0mX_batch\u001b[0m \u001b[0;34m=\u001b[0m \u001b[0mnp\u001b[0m\u001b[0;34m.\u001b[0m\u001b[0mhstack\u001b[0m\u001b[0;34m(\u001b[0m\u001b[0;34m(\u001b[0m\u001b[0mX_q_batch\u001b[0m\u001b[0;34m,\u001b[0m \u001b[0mX_i_batch\u001b[0m\u001b[0;34m)\u001b[0m\u001b[0;34m)\u001b[0m\u001b[0;34m\u001b[0m\u001b[0;34m\u001b[0m\u001b[0m\n\u001b[1;32m     19\u001b[0m         \u001b[0mY_batch\u001b[0m \u001b[0;34m=\u001b[0m \u001b[0mget_answers_matrix\u001b[0m\u001b[0;34m(\u001b[0m\u001b[0man_batch\u001b[0m\u001b[0;34m,\u001b[0m \u001b[0mlabelencoder\u001b[0m\u001b[0;34m)\u001b[0m\u001b[0;34m\u001b[0m\u001b[0;34m\u001b[0m\u001b[0m\n",
            "\u001b[0;32m<ipython-input-14-65937c59efd8>\u001b[0m in \u001b[0;36mget_images_matrix\u001b[0;34m(img_coco_ids, img_map, VGGfeatures)\u001b[0m\n\u001b[1;32m      4\u001b[0m   \u001b[0mimage_matrix\u001b[0m \u001b[0;34m=\u001b[0m \u001b[0mnp\u001b[0m\u001b[0;34m.\u001b[0m\u001b[0mzeros\u001b[0m\u001b[0;34m(\u001b[0m\u001b[0;34m(\u001b[0m\u001b[0mnb_samples\u001b[0m\u001b[0;34m,\u001b[0m \u001b[0mnb_dimensions\u001b[0m\u001b[0;34m)\u001b[0m\u001b[0;34m)\u001b[0m\u001b[0;34m\u001b[0m\u001b[0;34m\u001b[0m\u001b[0m\n\u001b[1;32m      5\u001b[0m   \u001b[0;32mfor\u001b[0m \u001b[0mj\u001b[0m \u001b[0;32min\u001b[0m \u001b[0mrange\u001b[0m\u001b[0;34m(\u001b[0m\u001b[0mlen\u001b[0m\u001b[0;34m(\u001b[0m\u001b[0mimg_coco_ids\u001b[0m\u001b[0;34m)\u001b[0m\u001b[0;34m)\u001b[0m\u001b[0;34m:\u001b[0m\u001b[0;34m\u001b[0m\u001b[0;34m\u001b[0m\u001b[0m\n\u001b[0;32m----> 6\u001b[0;31m     \u001b[0mimage_matrix\u001b[0m\u001b[0;34m[\u001b[0m\u001b[0mj\u001b[0m\u001b[0;34m,\u001b[0m\u001b[0;34m:\u001b[0m\u001b[0;34m]\u001b[0m \u001b[0;34m=\u001b[0m \u001b[0mVGGfeatures\u001b[0m\u001b[0;34m[\u001b[0m\u001b[0;34m:\u001b[0m\u001b[0;34m,\u001b[0m\u001b[0mimg_map\u001b[0m\u001b[0;34m[\u001b[0m\u001b[0mimg_coco_ids\u001b[0m\u001b[0;34m[\u001b[0m\u001b[0mj\u001b[0m\u001b[0;34m]\u001b[0m\u001b[0;34m]\u001b[0m\u001b[0;34m]\u001b[0m\u001b[0;34m\u001b[0m\u001b[0;34m\u001b[0m\u001b[0m\n\u001b[0m\u001b[1;32m      7\u001b[0m   \u001b[0;32mreturn\u001b[0m \u001b[0mimage_matrix\u001b[0m\u001b[0;34m\u001b[0m\u001b[0;34m\u001b[0m\u001b[0m\n",
            "\u001b[0;31mIndexError\u001b[0m: index 81938 is out of bounds for axis 1 with size 8000"
          ]
        }
      ]
    },
    {
      "cell_type": "markdown",
      "metadata": {
        "id": "NC43eIlG0Suw",
        "colab_type": "text"
      },
      "source": [
        "这里注意，我们一共存了两种文件。\n",
        "\n",
        "一种是json，是我们建立模型以后就存下来的东西，它代表了我们模型的龙骨（构架）\n",
        "\n",
        "一种是hdf5, 全称Hierarchical Data Format，是非常高效的一种存储格式，把我们训练好的权重（weights）都记录下来。\n",
        "\n",
        "那么，经过N轮的training之后，我们可以根据loss来监视效果。\n",
        "\n",
        "那么，同学们如果想做一下Evaluation，或者模型升级，等等，都可以改改代码试试。"
      ]
    },
    {
      "cell_type": "markdown",
      "metadata": {
        "id": "VMwdiYaJ0U0N",
        "colab_type": "text"
      },
      "source": [
        "### 代码总结"
      ]
    },
    {
      "cell_type": "code",
      "metadata": {
        "id": "XbGijyCZjZSQ",
        "colab_type": "code",
        "colab": {}
      },
      "source": [
        "# 导入相关库\n",
        "import sys\n",
        "from random import shuffle\n",
        "import argparse\n",
        "import numpy as np\n",
        "import scipy.io\n",
        "from keras.models import Sequential\n",
        "from keras.layers.core import Dense, Dropout, Activation\n",
        "from keras.optimizers import SGD\n",
        "from keras.utils import np_utils, generic_utils\n",
        "from sklearn import preprocessing\n",
        "from sklearn.externals import joblib\n",
        "from spacy.lang.en import English\n",
        "import operator\n",
        "from collections import defaultdict\n",
        "# 打印模型\n",
        "from keras.utils.vis_utils import plot_model\n",
        "from IPython.display import Image\n",
        "from itertools import zip_longest\n",
        " \n",
        "\"\"\"  读取数据  \"\"\"\n",
        "questions_train = open('data/questions_train2014.txt', 'r').read().splitlines()\n",
        "answers_train = open('data/answers_train2014_modal.txt','r').read().splitlines()\n",
        "images_train = open('data/images_train2014.txt','r').read().splitlines()\n",
        " \n",
        "\"\"\" 对应回答的处理  \"\"\"\n",
        " \n",
        "# 设定最多选取多少个回答\n",
        "max_answers = 1000\n",
        "answer_fq= defaultdict(int)\n",
        "# 并为所有的问答，构造一个字典dict\n",
        "for answer in answers_train:\n",
        "    answer_fq[answer] += 1\n",
        "# 按照出现次数，排序\n",
        "sorted_fq = sorted(answer_fq.items(), key=operator.itemgetter(1), reverse=True)[0:max_answers]\n",
        "top_answers, top_fq = zip(*sorted_fq)\n",
        "new_answers_train=[]\n",
        "new_questions_train=[]\n",
        "new_images_train=[]\n",
        "# 只提取top 1000问答相关\n",
        "for answer,question,image in zip(answers_train, questions_train, images_train):\n",
        "    if answer in top_answers:\n",
        "        new_answers_train.append(answer)\n",
        "        new_questions_train.append(question)\n",
        "        new_images_train.append(image)\n",
        " \n",
        "# 把新的数据赋值\n",
        "questions_train = new_questions_train\n",
        "answers_train = new_answers_train\n",
        "images_train = new_images_train\n",
        " \n",
        "# 接下来，我们把所有的1000个答案给编号 简单用到sklearn的preprocessing功能来赋值label\n",
        " \n",
        "labelencoder = preprocessing.LabelEncoder()\n",
        "labelencoder.fit(answers_train)\n",
        "nb_classes = len(list(labelencoder.classes_))\n",
        "joblib.dump(labelencoder,'data/labelencoder.pkl')\n",
        "# print(labelencoder.classes_)    # [...'yes' 'young' 'zebra' 'zebras' 'zoo']\n",
        "# print(labelencoder.transform(['yes']))  # [[... 1 0 0 0 0]]\n",
        " \n",
        " \n",
        "\"\"\" 我们写一个method，可以把所有的answers转化成数字化的label \"\"\"\n",
        " \n",
        " \n",
        "def get_answers_matrix(answers, encoder):\n",
        "    # string转化成数字化表达\n",
        "    y = encoder.transform(answers)\n",
        "    nb_classes = encoder.classes_.shape[0]\n",
        "    Y = np_utils.to_categorical(y, nb_classes)\n",
        "    # 并构造成标准的matrix\n",
        "    return Y\n",
        " \n",
        "# 我们把input图片的features一步到位地取出来\n",
        "vgg_model_path = 'mscoco/vgg_feats.mat'\n",
        " \n",
        "# 读入VGG features\n",
        "features_struct = scipy.io.loadmat(vgg_model_path)\n",
        "VGGfeatures = features_struct['feats']\n",
        "# 跟图片一一对应\n",
        "image_ids = open('data/coco_vgg_IDMap.txt').read().splitlines()\n",
        "id_map = {}\n",
        "for ids in image_ids:\n",
        "    id_split = ids.split()\n",
        "    id_map[id_split[0]] = int(id_split[1])\n",
        " \n",
        " \n",
        "\"\"\"\n",
        "是用来取得任何一个input图片的“数字化表达形式”的，也就是一个matrix\n",
        "这个matrix是由vgg扫过/处理图片以后，再加一层flatten得到的4096维的数组，\n",
        "我们称之为CNN Features\n",
        "\"\"\"\n",
        "def get_images_matrix(img_coco_ids, img_map, VGGfeatures):\n",
        "    nb_samples = len(img_coco_ids)\n",
        "    nb_dimensions = VGGfeatures.shape[0]\n",
        "    image_matrix = np.zeros((nb_samples, nb_dimensions))\n",
        "    for j in range(len(img_coco_ids)):\n",
        "        image_matrix[j,:] = VGGfeatures[:,img_map[img_coco_ids[j]]]\n",
        "    return image_matrix\n",
        " \n",
        "\"\"\"\n",
        "提问问题的处理\n",
        "接下来，是文字部分。\n",
        "我们用SpaCy自带的英文模型。把问句中的所有英文转化为vector，并平均化整个句子。\n",
        "这个本质上就是我们NLP基础课上讲过的word2vec\n",
        "\"\"\"\n",
        " \n",
        "# 载入Spacy的英语库\n",
        "nlp = English()\n",
        "# 图片的维度大小\n",
        "img_dim = 3796\n",
        "# 句子/单词的维度大小\n",
        "word_vec_dim = 300\n",
        " \n",
        "# 这个method就是用来计算句子中所有word vector的总和，\n",
        "# 目的在于把我们的文字用数字表示\n",
        "def get_questions_matrix_sum(questions, nlp):\n",
        "    # assert not isinstance(questions, basestring)\n",
        "    nb_samples = len(questions)\n",
        "    word_vec_dim = nlp(questions[0])[0].vector.shape[0]\n",
        "    questions_matrix = np.zeros((nb_samples, word_vec_dim))\n",
        "    for i in range(len(questions)):\n",
        "        tokens = nlp(questions[i])\n",
        "        for j in range(len(tokens)):\n",
        "            questions_matrix[i,:] += tokens[j].vector\n",
        "    return questions_matrix\n",
        " \n",
        "# VQA模型：MLP\n",
        "# 参数们\n",
        "num_hidden_units = 1024\n",
        "num_hidden_layers = 3\n",
        "dropout = 0.5\n",
        "activation = 'tanh'\n",
        "# 注意：我这里就跑了1个epoch，\n",
        "# 只是为了Demo，\n",
        "# 真实场景中，\n",
        "# 这显然是不够的\n",
        "# 大家可以试试100次。\n",
        "num_epochs = 1\n",
        "model_save_interval = 10\n",
        "batch_size = 128\n",
        " \n",
        "# MLP之建造\n",
        "# 输入层\n",
        "model = Sequential()\n",
        "model.add(Dense(num_hidden_units, input_dim=img_dim+word_vec_dim, kernel_initializer='uniform'))\n",
        "model.add(Activation(activation))\n",
        "model.add(Dropout(dropout))\n",
        "# 中间层\n",
        "for i in range(num_hidden_layers-1):\n",
        "    model.add(Dense(num_hidden_units, kernel_initializer='uniform'))\n",
        "    model.add(Activation(activation))\n",
        "    model.add(Dropout(dropout))\n",
        "# 输出层\n",
        "model.add(Dense(nb_classes, kernel_initializer='uniform'))\n",
        "model.add(Activation('softmax'))\n",
        " \n",
        "# 打印模型 -- windows 麻烦是多干脆不打印了\n",
        "# plot_model(model, to_file='data/model_mlp.peng', show_shapes=True)\n",
        "# Image(filename='data/model_mlp.peng')\n",
        " \n",
        "# 好接下来，我们做一个保存的动作\n",
        "json_string = model.to_json()\n",
        "model_file_name = 'data/mlp_num_hidden_units_' + str(num_hidden_units) + '_num_hidden_layers_' + str(num_hidden_layers)\n",
        "open(model_file_name  + '.json', 'w').write(json_string)\n",
        "# compile模型\n",
        "model.compile(loss='categorical_crossentropy', optimizer='rmsprop')\n",
        " \n",
        " \n",
        "# 在训练之前，我们还需要一个chunk list的方法，来把我们原始的数据分成一组一组的形式\n",
        "# 为了我们之后的batch training做准备\n",
        "# 这是一个标准的chunk list方法\n",
        "#  \"grouper(3, 'abcdefg', 'x') --> ('a','b','c'), ('d','e','f'), ('g','x','x')\"\n",
        " \n",
        "def grouper(iterable, n, fillvalue=None):\n",
        "    args = [iter(iterable)] * n\n",
        "    return zip_longest(*args, fillvalue=fillvalue)\n",
        " \n",
        "# 开始训练\n",
        "for k in range(num_epochs):\n",
        "    # 给数据洗个牌先\n",
        "    index_shuf = [i for i in range(len(questions_train))]\n",
        "    shuffle(index_shuf)\n",
        "    # 一一取出 问题，答案，和图片\n",
        "    questions_train = [questions_train[i] for i in index_shuf]\n",
        "    answers_train = [answers_train[i] for i in index_shuf]\n",
        "    images_train = [images_train[i] for i in index_shuf]\n",
        "    # 这就是个显示训练状态的bar，不写也没事，keras是默认有这个bar的\n",
        "    # 但是如果你需要做一些customize的话，就可以在这个progbar上做文章\n",
        "    progbar = generic_utils.Progbar(len(questions_train))\n",
        "    # batch分组\n",
        "    for qu_batch,an_batch,im_batch in zip(grouper(questions_train, batch_size, fillvalue=questions_train[-1]),\n",
        "                                        grouper(answers_train, batch_size, fillvalue=answers_train[-1]),\n",
        "                                        grouper(images_train, batch_size, fillvalue=images_train[-1])):\n",
        "        X_q_batch = get_questions_matrix_sum(qu_batch, nlp)\n",
        "        X_i_batch = get_images_matrix(im_batch, id_map, VGGfeatures)\n",
        "        X_batch = np.hstack((X_q_batch, X_i_batch))\n",
        "        Y_batch = get_answers_matrix(an_batch, labelencoder)\n",
        "        loss = model.train_on_batch(X_batch, Y_batch)\n",
        "        progbar.add(batch_size, values=[(\"train loss\", loss)])\n",
        "    # 并且告诉模型，隔多久，存一次模型，比如这里，model_save_interval是10\n",
        "    if k%model_save_interval == 0:\n",
        "        model.save_weights(model_file_name + '_epoch_{:02d}.hdf5'.format(k))\n",
        "# 顺手把最终的模型也存下来\n",
        "model.save_weights(model_file_name + '_epoch_{:02d}.hdf5'.format(k))"
      ],
      "execution_count": null,
      "outputs": []
    },
    {
      "cell_type": "markdown",
      "metadata": {
        "id": "EukfBGv00cxa",
        "colab_type": "text"
      },
      "source": [
        "### 第三章 \n",
        "道理上讲，这里训练的部分，跟前面依旧没啥区别，\n",
        "\n",
        "唯一的区别是，我们造语言部分的matrix的时候，使用timestep的方法，也就是我们刚刚上面改写的那个方法\n",
        "\n"
      ]
    },
    {
      "cell_type": "markdown",
      "metadata": {
        "id": "Wt9Xog2d0uNF",
        "colab_type": "text"
      },
      "source": [
        "### 参考文献\n",
        "* https://blog.csdn.net/m0_37156901/article/details/94997517#t0"
      ]
    },
    {
      "cell_type": "code",
      "metadata": {
        "id": "RcPr10_l0NZq",
        "colab_type": "code",
        "colab": {}
      },
      "source": [
        ""
      ],
      "execution_count": null,
      "outputs": []
    },
    {
      "cell_type": "code",
      "metadata": {
        "id": "Csc2Dk8P0NXN",
        "colab_type": "code",
        "colab": {}
      },
      "source": [
        ""
      ],
      "execution_count": null,
      "outputs": []
    },
    {
      "cell_type": "code",
      "metadata": {
        "id": "Lva2wiCbL_oy",
        "colab_type": "code",
        "colab": {}
      },
      "source": [
        ""
      ],
      "execution_count": null,
      "outputs": []
    }
  ]
}