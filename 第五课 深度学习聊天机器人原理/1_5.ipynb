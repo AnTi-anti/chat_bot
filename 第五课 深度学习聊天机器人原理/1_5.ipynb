{
  "nbformat": 4,
  "nbformat_minor": 0,
  "metadata": {
    "colab": {
      "name": "1_5.ipynb",
      "provenance": [],
      "collapsed_sections": []
    },
    "kernelspec": {
      "name": "python3",
      "display_name": "Python 3"
    },
    "accelerator": "TPU"
  },
  "cells": [
    {
      "cell_type": "markdown",
      "metadata": {
        "id": "g1DmIL1fYN5k",
        "colab_type": "text"
      },
      "source": [
        "### 第五课 基于深度学习的chatbot"
      ]
    },
    {
      "cell_type": "markdown",
      "metadata": {
        "id": "pT4dsd-tYWbb",
        "colab_type": "text"
      },
      "source": [
        "### 主要内容\n",
        "* 更聪明的聊天机器人\n",
        "  * 1.生成式模型 VS 检索匹配模型\n",
        "  * 2.Chatterbot的进化：深度学习提高智能度\n",
        "* 模型构建\n",
        "  * 1.问题的分析与转化\n",
        "  * 2.数据集与样本构造方法\n",
        "  * 3.模型结构的构建\n",
        "  * 4.模型的评估\n",
        "  * 5.代码实现与解析"
      ]
    },
    {
      "cell_type": "markdown",
      "metadata": {
        "id": "CHYKx_m-Ffyf",
        "colab_type": "text"
      },
      "source": [
        "#### 基于检索的chatbot\n",
        "*从知识库中找到最相近的问题/答案，前提是知识库有这样的问题(固定数据集找到合适内容去回答)\n",
        "* 根据input和context，结合知识库的算法得到合适回复\n",
        "* 从一个固定的数据集中找到合适的内容作为回复\n",
        "* 检索和匹配的饿方式有很多种\n",
        "* **数据和匹配方法对质量有很大影响**\n",
        "* 优点：语法正确、速度快\n",
        "* 缺点：缺少会话的概念、没有上下文改变\n",
        "\n",
        "### 基于生成模型的chatbot\n",
        "* **不仅仅可以从数据库中找到，还可以自己生成**\n",
        "* 典型的是**seq2seq**的方法\n",
        "* 生成的结果需要考虑通畅度和准确度\n",
        "* 优点：结合上下文\n",
        "* 缺点：通畅度不一定流利\n",
        "\n",
        "以前者为主(可控度高)，后者为辅\n",
        "\n",
        "深度学习发挥什么作用？\n",
        "* 需要算法的地方就可以考虑深度学习的优势"
      ]
    },
    {
      "cell_type": "markdown",
      "metadata": {
        "id": "Njkoxparc0hL",
        "colab_type": "text"
      },
      "source": [
        "### 回顾Chatterbot\n",
        "\n",
        "机器人应答逻辑 --> Logic Adapters\n",
        "* Closest Match dapter\n",
        "  * 字符串模糊匹配(编辑距离)\n",
        "* Closest Meaning Adapter\n",
        "  * 借助nltk的WordNet，近义词评估\n",
        "* Time Logic Adapter"
      ]
    },
    {
      "cell_type": "markdown",
      "metadata": {
        "id": "-przSUH_d2_U",
        "colab_type": "text"
      },
      "source": [
        "但是应答模式的匹配方式太粗暴\n",
        "* 编辑距离无法捕获深层语义信息\n",
        "* 核心词+word2vec无法捕捉整句话语义\n",
        "* LSTM等RNN模型能补货序列信息\n",
        "* 用深度学习来提高匹配阶段准确率"
      ]
    },
    {
      "cell_type": "markdown",
      "metadata": {
        "id": "5Hin1kleefuB",
        "colab_type": "text"
      },
      "source": [
        "### 应该怎么做\n",
        "* 匹配本身是一个模糊的场景\n",
        "  * 转成排序问题\n",
        "* 排序问题怎么处理\n",
        "  * 转成能输出概率的0-1分类问题\n",
        "* 数据构建\n",
        "  * 需要正样本(正确的回答)和负样本(不对的回答)"
      ]
    },
    {
      "cell_type": "markdown",
      "metadata": {
        "id": "atFXBzp4e2-W",
        "colab_type": "text"
      },
      "source": [
        "### 关于数据\n",
        "\n",
        "* Ubuntu对话语料库--训练集\n",
        "\n",
        "  * Ubuntu对话数据集，来自Ubuntu的IRC网络上的对话日志\n",
        "  * 训练集1000000条实例，一半是正例（label为1），一半是负例（label为0，负例为随机生成）\n",
        "  * 样本包括上下文信息(context，即Query)和一段可能的回复内容，即Response；**Label为1表示Response和Query的匹配，Label为0则表示不匹配**。\n",
        "  * query的平均长度为86个word，而response的平均长度为17个word\n",
        "\n",
        "* 验证/测试集：\n",
        "  * 每个样本，有一个正例和九个负例数据(也称为干扰数据)\n",
        "  * 建模的目标在于给正例的得分尽可能的高，而给负例的得分\n",
        "尽可能的低。(有点类似分类任务)\n",
        "  * 语料做过分词、stemmed、lemmatized等文本预处理。\n",
        "  * 用NER(命名实体识别)将文本中的实体，如姓名、地点、组\n",
        "织、URL等替换成特殊字符 \n"
      ]
    },
    {
      "cell_type": "markdown",
      "metadata": {
        "id": "IckhX59eO72-",
        "colab_type": "text"
      },
      "source": [
        "### 数据集查看"
      ]
    },
    {
      "cell_type": "code",
      "metadata": {
        "id": "hroOUEbLnSwf",
        "colab_type": "code",
        "colab": {}
      },
      "source": [
        "%matplotlib inline\n",
        "\n",
        "import pandas as pd\n",
        "import matplotlib.pyplot as plt\n",
        "import matplotlib\n",
        "matplotlib.style.use('ggplot')"
      ],
      "execution_count": null,
      "outputs": []
    },
    {
      "cell_type": "code",
      "metadata": {
        "id": "E30Urjf0nS6t",
        "colab_type": "code",
        "colab": {}
      },
      "source": [
        "# Load Data\n",
        "import csv\n",
        "train_df = pd.read_csv(\"/content/drive/My Drive/chatBot/train (1).csv\")\n",
        "train_df.Label = train_df.Label.astype('category')\n",
        "\n",
        "test_df = pd.read_csv(\"/content/drive/My Drive/chatBot/test.csv\")\n",
        "validation_df = pd.read_csv(\"/content/drive/My Drive/chatBot/valid.csv\")"
      ],
      "execution_count": null,
      "outputs": []
    },
    {
      "cell_type": "code",
      "metadata": {
        "id": "GoyjaMVHnS4H",
        "colab_type": "code",
        "colab": {
          "base_uri": "https://localhost:8080/",
          "height": 173
        },
        "outputId": "a386ab43-c99b-4532-f34a-6bcbd8917d3f"
      },
      "source": [
        "train_df.describe()"
      ],
      "execution_count": null,
      "outputs": [
        {
          "output_type": "execute_result",
          "data": {
            "text/html": [
              "<div>\n",
              "<style scoped>\n",
              "    .dataframe tbody tr th:only-of-type {\n",
              "        vertical-align: middle;\n",
              "    }\n",
              "\n",
              "    .dataframe tbody tr th {\n",
              "        vertical-align: top;\n",
              "    }\n",
              "\n",
              "    .dataframe thead th {\n",
              "        text-align: right;\n",
              "    }\n",
              "</style>\n",
              "<table border=\"1\" class=\"dataframe\">\n",
              "  <thead>\n",
              "    <tr style=\"text-align: right;\">\n",
              "      <th></th>\n",
              "      <th>Context</th>\n",
              "      <th>Utterance</th>\n",
              "      <th>Label</th>\n",
              "    </tr>\n",
              "  </thead>\n",
              "  <tbody>\n",
              "    <tr>\n",
              "      <th>count</th>\n",
              "      <td>1000000</td>\n",
              "      <td>1000000</td>\n",
              "      <td>1000000.0</td>\n",
              "    </tr>\n",
              "    <tr>\n",
              "      <th>unique</th>\n",
              "      <td>957130</td>\n",
              "      <td>744457</td>\n",
              "      <td>2.0</td>\n",
              "    </tr>\n",
              "    <tr>\n",
              "      <th>top</th>\n",
              "      <td>!ops __eou__ __eot__ ? __eou__ __eot__</td>\n",
              "      <td>thanks __eou__</td>\n",
              "      <td>0.0</td>\n",
              "    </tr>\n",
              "    <tr>\n",
              "      <th>freq</th>\n",
              "      <td>13</td>\n",
              "      <td>11024</td>\n",
              "      <td>500127.0</td>\n",
              "    </tr>\n",
              "  </tbody>\n",
              "</table>\n",
              "</div>"
            ],
            "text/plain": [
              "                                        Context       Utterance      Label\n",
              "count                                   1000000         1000000  1000000.0\n",
              "unique                                   957130          744457        2.0\n",
              "top     !ops __eou__ __eot__ ? __eou__ __eot__   thanks __eou__        0.0\n",
              "freq                                         13           11024   500127.0"
            ]
          },
          "metadata": {
            "tags": []
          },
          "execution_count": 4
        }
      ]
    },
    {
      "cell_type": "code",
      "metadata": {
        "id": "M2dQyguVnS17",
        "colab_type": "code",
        "colab": {
          "base_uri": "https://localhost:8080/",
          "height": 299
        },
        "outputId": "bafd64bb-16de-434d-a782-5d4450b4a1e2"
      },
      "source": [
        "train_df.Label.hist()\n",
        "plt.title(\"Training Label Distribution\")"
      ],
      "execution_count": null,
      "outputs": [
        {
          "output_type": "execute_result",
          "data": {
            "text/plain": [
              "Text(0.5, 1.0, 'Training Label Distribution')"
            ]
          },
          "metadata": {
            "tags": []
          },
          "execution_count": 5
        },
        {
          "output_type": "display_data",
          "data": {
            "image/png": "[encoded data removed]",
            "text/plain": [
              "<Figure size 432x288 with 1 Axes>"
            ]
          },
          "metadata": {
            "tags": [],
            "needs_background": "light"
          }
        }
      ]
    },
    {
      "cell_type": "code",
      "metadata": {
        "id": "QeEPZYI7nSzx",
        "colab_type": "code",
        "colab": {
          "base_uri": "https://localhost:8080/",
          "height": 629
        },
        "outputId": "8b7371c7-0d06-4ad8-f48e-3595553e65e8"
      },
      "source": [
        "pd.options.display.max_colwidth = 500\n",
        "train_df.head()"
      ],
      "execution_count": null,
      "outputs": [
        {
          "output_type": "execute_result",
          "data": {
            "text/html": [
              "<div>\n",
              "<style scoped>\n",
              "    .dataframe tbody tr th:only-of-type {\n",
              "        vertical-align: middle;\n",
              "    }\n",
              "\n",
              "    .dataframe tbody tr th {\n",
              "        vertical-align: top;\n",
              "    }\n",
              "\n",
              "    .dataframe thead th {\n",
              "        text-align: right;\n",
              "    }\n",
              "</style>\n",
              "<table border=\"1\" class=\"dataframe\">\n",
              "  <thead>\n",
              "    <tr style=\"text-align: right;\">\n",
              "      <th></th>\n",
              "      <th>Context</th>\n",
              "      <th>Utterance</th>\n",
              "      <th>Label</th>\n",
              "    </tr>\n",
              "  </thead>\n",
              "  <tbody>\n",
              "    <tr>\n",
              "      <th>0</th>\n",
              "      <td>i think we could import the old comments via rsync, but from there we need to go via email. I think it is easier than caching the status on each bug and than import bits here and there __eou__ __eot__ it would be very easy to keep a hash db of message-ids  __eou__ sounds good __eou__ __eot__ ok __eou__ perhaps we can ship an ad-hoc apt_prefereces __eou__ __eot__ version? __eou__ __eot__ thanks __eou__ __eot__ not yet __eou__ it is covered by your insurance? __eou__ __eot__ yes __eou__ but it...</td>\n",
              "      <td>basically each xfree86 upload will NOT force users to upgrade 100Mb of fonts for nothing __eou__ no something i did in my spare time. __eou__</td>\n",
              "      <td>1.0</td>\n",
              "    </tr>\n",
              "    <tr>\n",
              "      <th>1</th>\n",
              "      <td>I'm not suggesting all - only the ones you modify. __eou__ __eot__ ok, it sounds like you're agreeing with me, then __eou__ though rather than \"the ones we modify\", my idea is \"the ones we need to merge\" __eou__ __eot__</td>\n",
              "      <td>sorry __eou__ i thought it was ubuntu related. __eou__</td>\n",
              "      <td>0.0</td>\n",
              "    </tr>\n",
              "    <tr>\n",
              "      <th>2</th>\n",
              "      <td>afternoon all __eou__ not entirely related to warty, but if grub-install takes 5 minutes to install, is this a sign that i should just retry the install :) __eou__ __eot__ here  __eou__ __eot__ you might want to know that thinice in warty is buggy compared to that in sid __eou__ __eot__ and apparently GNOME is suddently almost perfect (out of the thinice problem), nobody report bugs :-P __eou__ I don't get your question, where do you want to paste ? __eou__ __eot__ can i file the panel not l...</td>\n",
              "      <td>Yep. __eou__ oh, okay. I wondered what happened to you __eou__ what distro do you need? __eou__ yes __eou__</td>\n",
              "      <td>0.0</td>\n",
              "    </tr>\n",
              "    <tr>\n",
              "      <th>3</th>\n",
              "      <td>interesting __eou__ grub-install worked with / being ext3, failed when it was xfs __eou__ i thought d-i installed the relevant kernel for your machine. i have a p4 and its installed the 386 kernel __eou__ holy crap a lot of stuff gets installed by default :) __eou__ YOU ARE INSTALLING VIM ON A BOX OF MINE __eou__ ;) __eou__ __eot__ more like osx than debian ;) __eou__ we have a selection of python modules available for great justice (and python development) __eou__ __eot__ 2.8 is fixing them...</td>\n",
              "      <td>thats the one __eou__</td>\n",
              "      <td>1.0</td>\n",
              "    </tr>\n",
              "    <tr>\n",
              "      <th>4</th>\n",
              "      <td>and because Python gives Mark a woody __eou__ __eot__ i'm not sure if we're meant to talk about that publically yet. __eou__ __eot__ and I thought we were a \"pants off\" kind of company ... :p __eou__ you need new glasses __eou__ __eot__ mono 1.0? dude, that's going to be a barrel of laughs for totally non-release related reasons during hoary __eou__ read bryan clark's entry about NetworkManager? __eou__ __eot__ there was an accompanying IRC conversation to that one &lt;g&gt; __eou__ explain ? __eo...</td>\n",
              "      <td>(i thought someone was going to make a joke about .au bandwidth...) __eou__ especially not if you're using screen ;) __eou__</td>\n",
              "      <td>1.0</td>\n",
              "    </tr>\n",
              "  </tbody>\n",
              "</table>\n",
              "</div>"
            ],
            "text/plain": [
              "                                                                                                                                                                                                                                                                                                                                                                                                                                                                                                               Context  ... Label\n",
              "0  i think we could import the old comments via rsync, but from there we need to go via email. I think it is easier than caching the status on each bug and than import bits here and there __eou__ __eot__ it would be very easy to keep a hash db of message-ids  __eou__ sounds good __eou__ __eot__ ok __eou__ perhaps we can ship an ad-hoc apt_prefereces __eou__ __eot__ version? __eou__ __eot__ thanks __eou__ __eot__ not yet __eou__ it is covered by your insurance? __eou__ __eot__ yes __eou__ but it...  ...   1.0\n",
              "1                                                                                                                                                                                                                                                                                         I'm not suggesting all - only the ones you modify. __eou__ __eot__ ok, it sounds like you're agreeing with me, then __eou__ though rather than \"the ones we modify\", my idea is \"the ones we need to merge\" __eou__ __eot__   ...   0.0\n",
              "2  afternoon all __eou__ not entirely related to warty, but if grub-install takes 5 minutes to install, is this a sign that i should just retry the install :) __eou__ __eot__ here  __eou__ __eot__ you might want to know that thinice in warty is buggy compared to that in sid __eou__ __eot__ and apparently GNOME is suddently almost perfect (out of the thinice problem), nobody report bugs :-P __eou__ I don't get your question, where do you want to paste ? __eou__ __eot__ can i file the panel not l...  ...   0.0\n",
              "3  interesting __eou__ grub-install worked with / being ext3, failed when it was xfs __eou__ i thought d-i installed the relevant kernel for your machine. i have a p4 and its installed the 386 kernel __eou__ holy crap a lot of stuff gets installed by default :) __eou__ YOU ARE INSTALLING VIM ON A BOX OF MINE __eou__ ;) __eou__ __eot__ more like osx than debian ;) __eou__ we have a selection of python modules available for great justice (and python development) __eou__ __eot__ 2.8 is fixing them...  ...   1.0\n",
              "4  and because Python gives Mark a woody __eou__ __eot__ i'm not sure if we're meant to talk about that publically yet. __eou__ __eot__ and I thought we were a \"pants off\" kind of company ... :p __eou__ you need new glasses __eou__ __eot__ mono 1.0? dude, that's going to be a barrel of laughs for totally non-release related reasons during hoary __eou__ read bryan clark's entry about NetworkManager? __eou__ __eot__ there was an accompanying IRC conversation to that one <g> __eou__ explain ? __eo...  ...   1.0\n",
              "\n",
              "[5 rows x 3 columns]"
            ]
          },
          "metadata": {
            "tags": []
          },
          "execution_count": 6
        }
      ]
    },
    {
      "cell_type": "code",
      "metadata": {
        "id": "-8iV55JmnSuW",
        "colab_type": "code",
        "colab": {
          "base_uri": "https://localhost:8080/",
          "height": 435
        },
        "outputId": "df8b12ae-be76-4e5a-bec5-c68fa656afce"
      },
      "source": [
        "plt.figure(1)\n",
        "train_df_context_len = train_df.Context.str.split(\" \").apply(len)\n",
        "train_df_context_len.hist(bins=40)\n",
        "# 训练样本中问题长度的分布，主要接种在0-100之间\n",
        "plt.title(\"Training Context Length Statistics\")\n",
        "print(train_df_context_len.describe())"
      ],
      "execution_count": null,
      "outputs": [
        {
          "output_type": "stream",
          "text": [
            "count    1000000.000000\n",
            "mean          77.877830\n",
            "std           66.837906\n",
            "min            7.000000\n",
            "25%           34.000000\n",
            "50%           57.000000\n",
            "75%           97.000000\n",
            "max         2034.000000\n",
            "Name: Context, dtype: float64\n"
          ],
          "name": "stdout"
        },
        {
          "output_type": "display_data",
          "data": {
            "image/png": "[encoded data removed]",
            "text/plain": [
              "<Figure size 432x288 with 1 Axes>"
            ]
          },
          "metadata": {
            "tags": [],
            "needs_background": "light"
          }
        }
      ]
    },
    {
      "cell_type": "code",
      "metadata": {
        "id": "nIKOwCbxnSsB",
        "colab_type": "code",
        "colab": {
          "base_uri": "https://localhost:8080/",
          "height": 435
        },
        "outputId": "1ff56d30-6b37-4789-959c-b949185f9d95"
      },
      "source": [
        "plt.figure(2)\n",
        "train_df_utterance_len = train_df.Utterance.str.split(\" \").apply(len)\n",
        "train_df_utterance_len.hist(bins=40)\n",
        "#训练样本中回答的问题长度的分布，主要接种在0-20之间\n",
        "plt.title(\"Training Utterance Length Statistics\")\n",
        "print(train_df_utterance_len.describe())"
      ],
      "execution_count": null,
      "outputs": [
        {
          "output_type": "stream",
          "text": [
            "count    1000000.000000\n",
            "mean          15.204147\n",
            "std           14.642695\n",
            "min            2.000000\n",
            "25%            6.000000\n",
            "50%           11.000000\n",
            "75%           20.000000\n",
            "max          584.000000\n",
            "Name: Utterance, dtype: float64\n"
          ],
          "name": "stdout"
        },
        {
          "output_type": "display_data",
          "data": {
            "image/png": "[encoded data removed]",
            "text/plain": [
              "<Figure size 432x288 with 1 Axes>"
            ]
          },
          "metadata": {
            "tags": [],
            "needs_background": "light"
          }
        }
      ]
    },
    {
      "cell_type": "code",
      "metadata": {
        "id": "iVbCFLZJnSqH",
        "colab_type": "code",
        "colab": {
          "base_uri": "https://localhost:8080/",
          "height": 1000
        },
        "outputId": "1a8f5dcf-eac8-4236-f391-f5a7ac6c05d4"
      },
      "source": [
        "pd.options.display.max_colwidth = 500\n",
        "# 测试集的分布，context表示提问的问题，Ground Truth utterance表示问题的正确答案，Distractor表示9个负倒样本\n",
        "test_df.head()"
      ],
      "execution_count": null,
      "outputs": [
        {
          "output_type": "execute_result",
          "data": {
            "text/html": [
              "<div>\n",
              "<style scoped>\n",
              "    .dataframe tbody tr th:only-of-type {\n",
              "        vertical-align: middle;\n",
              "    }\n",
              "\n",
              "    .dataframe tbody tr th {\n",
              "        vertical-align: top;\n",
              "    }\n",
              "\n",
              "    .dataframe thead th {\n",
              "        text-align: right;\n",
              "    }\n",
              "</style>\n",
              "<table border=\"1\" class=\"dataframe\">\n",
              "  <thead>\n",
              "    <tr style=\"text-align: right;\">\n",
              "      <th></th>\n",
              "      <th>Context</th>\n",
              "      <th>Ground Truth Utterance</th>\n",
              "      <th>Distractor_0</th>\n",
              "      <th>Distractor_1</th>\n",
              "      <th>Distractor_2</th>\n",
              "      <th>Distractor_3</th>\n",
              "      <th>Distractor_4</th>\n",
              "      <th>Distractor_5</th>\n",
              "      <th>Distractor_6</th>\n",
              "      <th>Distractor_7</th>\n",
              "      <th>Distractor_8</th>\n",
              "    </tr>\n",
              "  </thead>\n",
              "  <tbody>\n",
              "    <tr>\n",
              "      <th>0</th>\n",
              "      <td>anyone knows why my stock oneiric exports env var 'USERNAME'?  I mean what is that used for?  I know of $USER but not $USERNAME .  My precise install doesn't export USERNAME __eou__ __eot__ looks like it used to be exported by lightdm, but the line had the comment \"// FIXME: Is this required?\" so I guess it isn't surprising it is gone __eou__ __eot__ thanks!  How the heck did you figure that out? __eou__ __eot__ https://bugs.launchpad.net/lightdm/+bug/864109/comments/3 __eou__ __eot__</td>\n",
              "      <td>nice thanks! __eou__</td>\n",
              "      <td>wrong channel for it, but check efnet.org, unofficial page. __eou__</td>\n",
              "      <td>every time the kernel changes, you will lose video __eou__ yep __eou__</td>\n",
              "      <td>ok __eou__</td>\n",
              "      <td>!nomodeset &gt; acer __eou__ I'm assuming it is a driver issue. __eou__ !pm &gt; acer __eou__ i DON'T pm. ;) __eou__ OOPS SORRY FOR THE CAPS __eou__</td>\n",
              "      <td>http://www.ubuntu.com/project/about-ubuntu/derivatives  (some call them derivatives, others call them flavors, same difference) __eou__</td>\n",
              "      <td>thx __eou__ unfortunately the program isn't installed from the repositories __eou__</td>\n",
              "      <td>how can I check? By doing a recovery for testing? __eou__</td>\n",
              "      <td>my humble apologies __eou__</td>\n",
              "      <td>#ubuntu-offtopic __eou__</td>\n",
              "    </tr>\n",
              "    <tr>\n",
              "      <th>1</th>\n",
              "      <td>i set up my hd such that i have to type a passphrase to access it at boot. how can i remove that passwrd, and just boot up normal. i did this at install, it works fine, just tired of having reboots where i need to be at terminal to type passwd in. help? __eou__ __eot__ backup your data, and re-install without encryption \"might\" be the easiest method __eou__ __eot__</td>\n",
              "      <td>so you dont know, ok, anyone else? __eou__ you are like, yah my mouse doesnt work, reinstall your os lolol what a joke __eou__</td>\n",
              "      <td>nmap is nice, but it wasn't what I was looking for.  I finally found it again: mtr (my traceroute) is what I was looking for.  I'll be keeping nmap handy though. __eou__</td>\n",
              "      <td>ok __eou__</td>\n",
              "      <td>cdrom worked fine on windows. __eou__ i dont think it has anything to do with the buring process, cds work fine on my desktop and my other ubuntu lap __eou__</td>\n",
              "      <td>ah yes, i have read return as rerun __eou__</td>\n",
              "      <td>hm? __eou__</td>\n",
              "      <td>not the case, LTS is every other .04 release. The .04 isn't always more stable __eou__ I would reinstall with Precise __eou__ you can restore user data and such from backup __eou__</td>\n",
              "      <td>Pretty much __eou__</td>\n",
              "      <td>I used the one I downloaded from AMD __eou__</td>\n",
              "      <td>ffmpeg is part of the package , quixotedon , at least I'm quite sure it still is __eou__ if not just install ffmpeg __eou__</td>\n",
              "    </tr>\n",
              "    <tr>\n",
              "      <th>2</th>\n",
              "      <td>im trying to use ubuntu on my macbook pro retina __eou__ i read in the forums that ubuntu has a apple version now? __eou__ __eot__  not that ive ever heard of..  normal ubutnu should work on an intel based mac. there is the PPC version also. __eou__  you want total control? or what are you wanting exactly? __eou__ __eot__</td>\n",
              "      <td>just wondering how it runs __eou__</td>\n",
              "      <td>yes, that's what I did, exported it to a \"id_dsa\" file, then back to Ubuntu copied it into ~/.ssh/ __eou__</td>\n",
              "      <td>nothing - i am talking about the question of myhero __eou__</td>\n",
              "      <td>that should fix the fonts being too large __eou__</td>\n",
              "      <td>okay, so hcitool echos back hci0 &lt;mac address of controller&gt; but the bluetooth devices panel keeps disconnecting and reconnecting the device (or so it seems) any idea why that would be? __eou__</td>\n",
              "      <td>I get to the menu with options such as 'try ubuntu', 'install ubuntu', 'check disc' __eou__</td>\n",
              "      <td>why do u need analyzer __eou__ it is a toy __eou__ ok msp301 __eou__ but y, i mean it is the same ubunut, only with older programs __eou__ ubuntu 804 or 1204 __eou__ no i dont use 804 __eou__ i am asking hypo qs __eou__</td>\n",
              "      <td>Cntrl-C may stop the command but it doesn't fix my HDD problem. __eou__</td>\n",
              "      <td>if you're only going to run Ubuntu, just get a normal PC rather than a mac __eou__ that said, I'm running it on a macbook, because I got one relatively cheaply __eou__</td>\n",
              "      <td>the ones which are not picked up at the moment are on STDERR and not STDOUT and &gt; is only covering STDOUT __eou__</td>\n",
              "    </tr>\n",
              "    <tr>\n",
              "      <th>3</th>\n",
              "      <td>no suggestions? __eou__ links? __eou__ how can i remove luks passphrase at boot. i dont want to use feature anymore... __eou__ __eot__ you may need to create a new volume __eou__ __eot__ that leads me to the next question lol... i dont know how to create new volumes exactly in cmdline, usually i use a gui. im just trying to access this server via usb loaded with next os im going to load, the luks pw is stopping me __eou__ __eot__ for something like that I would likely use something like a li...</td>\n",
              "      <td>you cant load anything via usb or cd when luks is running __eou__ it wont allow usb boot, i tried with 2 diff usb drives __eou__</td>\n",
              "      <td>-p  sorry... __eou__  nmap -p22 __eou__ It doesn't say:  22/tcp open  ssh  ? __eou__</td>\n",
              "      <td>i guess so i can't even launch it. __eou__</td>\n",
              "      <td>noted __eou__</td>\n",
              "      <td>rxvt-unicode is one __eou__</td>\n",
              "      <td>I tarred all of ~ __eou__</td>\n",
              "      <td>I tarred all of ~ __eou__</td>\n",
              "      <td>I don't really know if I can help, but I was curious. lol __eou__ That's cool. I'll look into it. Now, we better stop talking about this since it's offtopic. :P __eou__</td>\n",
              "      <td>that works just fine, thanks! __eou__</td>\n",
              "      <td>thank you __eou__</td>\n",
              "    </tr>\n",
              "    <tr>\n",
              "      <th>4</th>\n",
              "      <td>I just added a second usb printer but not sure what the uri should read - can anyone help with usb printers? __eou__ __eot__ firefox localhost:631 __eou__ __eot__ firefox? __eou__ __eot__ yes __eou__ firefox localhost:631 __eou__ firefox http://localhost:631 __eou__ cups has a web based interface __eou__ __eot__</td>\n",
              "      <td>i was setting it up under the printer configuration __eou__ thanks! __eou__</td>\n",
              "      <td>i'd say the most commonly venue would be via Launchpad. check out the factoid !bug as well __eou__</td>\n",
              "      <td>the old hardy man page, http://manpages.ubuntu.com/manpages/hardy/man1/gcalctool.1.html says \"delete\" clears the screen, but it doesn't __eou__ because LTS are good __eou__</td>\n",
              "      <td>i'll give a try __eou__</td>\n",
              "      <td>by the way, the url you posted for davfs is from dapper... that's 5.xx iirc __eou__</td>\n",
              "      <td>http://ubuntuforums.org/showthread.php?t=1549847 __eou__</td>\n",
              "      <td>So I load up putty gui, then what do I do? __eou__</td>\n",
              "      <td>you should read error messages, it says 'are you root?' __eou__</td>\n",
              "      <td>waiting the college semester to close just to make sure I will not need to reconfigure my environment again __eou__</td>\n",
              "      <td>I was calling myself a jerk. All I know is that you downloaded a game successfully. __eou__</td>\n",
              "    </tr>\n",
              "  </tbody>\n",
              "</table>\n",
              "</div>"
            ],
            "text/plain": [
              "                                                                                                                                                                                                                                                                                                                                                                                                                                                                                                               Context  ...                                                                                                                 Distractor_8\n",
              "0           anyone knows why my stock oneiric exports env var 'USERNAME'?  I mean what is that used for?  I know of $USER but not $USERNAME .  My precise install doesn't export USERNAME __eou__ __eot__ looks like it used to be exported by lightdm, but the line had the comment \"// FIXME: Is this required?\" so I guess it isn't surprising it is gone __eou__ __eot__ thanks!  How the heck did you figure that out? __eou__ __eot__ https://bugs.launchpad.net/lightdm/+bug/864109/comments/3 __eou__ __eot__   ...                                                                                                     #ubuntu-offtopic __eou__\n",
              "1                                                                                                                                     i set up my hd such that i have to type a passphrase to access it at boot. how can i remove that passwrd, and just boot up normal. i did this at install, it works fine, just tired of having reboots where i need to be at terminal to type passwd in. help? __eou__ __eot__ backup your data, and re-install without encryption \"might\" be the easiest method __eou__ __eot__   ...  ffmpeg is part of the package , quixotedon , at least I'm quite sure it still is __eou__ if not just install ffmpeg __eou__\n",
              "2                                                                                                                                                                                 im trying to use ubuntu on my macbook pro retina __eou__ i read in the forums that ubuntu has a apple version now? __eou__ __eot__  not that ive ever heard of..  normal ubutnu should work on an intel based mac. there is the PPC version also. __eou__  you want total control? or what are you wanting exactly? __eou__ __eot__   ...            the ones which are not picked up at the moment are on STDERR and not STDOUT and > is only covering STDOUT __eou__\n",
              "3  no suggestions? __eou__ links? __eou__ how can i remove luks passphrase at boot. i dont want to use feature anymore... __eou__ __eot__ you may need to create a new volume __eou__ __eot__ that leads me to the next question lol... i dont know how to create new volumes exactly in cmdline, usually i use a gui. im just trying to access this server via usb loaded with next os im going to load, the luks pw is stopping me __eou__ __eot__ for something like that I would likely use something like a li...  ...                                                                                                            thank you __eou__\n",
              "4                                                                                                                                                                                           I just added a second usb printer but not sure what the uri should read - can anyone help with usb printers? __eou__ __eot__ firefox localhost:631 __eou__ __eot__ firefox? __eou__ __eot__ yes __eou__ firefox localhost:631 __eou__ firefox http://localhost:631 __eou__ cups has a web based interface __eou__ __eot__   ...                                  I was calling myself a jerk. All I know is that you downloaded a game successfully. __eou__\n",
              "\n",
              "[5 rows x 11 columns]"
            ]
          },
          "metadata": {
            "tags": []
          },
          "execution_count": 9
        }
      ]
    },
    {
      "cell_type": "code",
      "metadata": {
        "id": "rHJLZSRrnSnz",
        "colab_type": "code",
        "colab": {
          "base_uri": "https://localhost:8080/",
          "height": 1000
        },
        "outputId": "540479a9-361a-457e-de0c-a3be0e96ddb3"
      },
      "source": [
        "test_df.describe()"
      ],
      "execution_count": null,
      "outputs": [
        {
          "output_type": "execute_result",
          "data": {
            "text/html": [
              "<div>\n",
              "<style scoped>\n",
              "    .dataframe tbody tr th:only-of-type {\n",
              "        vertical-align: middle;\n",
              "    }\n",
              "\n",
              "    .dataframe tbody tr th {\n",
              "        vertical-align: top;\n",
              "    }\n",
              "\n",
              "    .dataframe thead th {\n",
              "        text-align: right;\n",
              "    }\n",
              "</style>\n",
              "<table border=\"1\" class=\"dataframe\">\n",
              "  <thead>\n",
              "    <tr style=\"text-align: right;\">\n",
              "      <th></th>\n",
              "      <th>Context</th>\n",
              "      <th>Ground Truth Utterance</th>\n",
              "      <th>Distractor_0</th>\n",
              "      <th>Distractor_1</th>\n",
              "      <th>Distractor_2</th>\n",
              "      <th>Distractor_3</th>\n",
              "      <th>Distractor_4</th>\n",
              "      <th>Distractor_5</th>\n",
              "      <th>Distractor_6</th>\n",
              "      <th>Distractor_7</th>\n",
              "      <th>Distractor_8</th>\n",
              "    </tr>\n",
              "  </thead>\n",
              "  <tbody>\n",
              "    <tr>\n",
              "      <th>count</th>\n",
              "      <td>18920</td>\n",
              "      <td>18920</td>\n",
              "      <td>18920</td>\n",
              "      <td>18920</td>\n",
              "      <td>18920</td>\n",
              "      <td>18920</td>\n",
              "      <td>18920</td>\n",
              "      <td>18920</td>\n",
              "      <td>18920</td>\n",
              "      <td>18920</td>\n",
              "      <td>18920</td>\n",
              "    </tr>\n",
              "    <tr>\n",
              "      <th>unique</th>\n",
              "      <td>18920</td>\n",
              "      <td>18026</td>\n",
              "      <td>14066</td>\n",
              "      <td>13998</td>\n",
              "      <td>14162</td>\n",
              "      <td>14116</td>\n",
              "      <td>14200</td>\n",
              "      <td>14149</td>\n",
              "      <td>14064</td>\n",
              "      <td>14068</td>\n",
              "      <td>14202</td>\n",
              "    </tr>\n",
              "    <tr>\n",
              "      <th>top</th>\n",
              "      <td>howto fix a corrupt square mouse pointer every cold boot in precise?(ati grafix card) __eou__ __eot__ were you here yesterday or so with same problem ? __eou__ did you try restarting x ? __eou__ sudo service login-manager restart __eou__ probably not __eou__ however if restrting x makes it go away then there may be a setting in your x config to fix it __eou__ __eot__ whats up mate __eou__ i got the square mouse away, but compiz doesnt run anymore __eou__ __eot__ nada raping a ftp server with...</td>\n",
              "      <td>thanks __eou__</td>\n",
              "      <td>thanks __eou__</td>\n",
              "      <td>thanks __eou__</td>\n",
              "      <td>thanks __eou__</td>\n",
              "      <td>thanks __eou__</td>\n",
              "      <td>thanks __eou__</td>\n",
              "      <td>thanks __eou__</td>\n",
              "      <td>thanks __eou__</td>\n",
              "      <td>thanks __eou__</td>\n",
              "      <td>thanks __eou__</td>\n",
              "    </tr>\n",
              "    <tr>\n",
              "      <th>freq</th>\n",
              "      <td>1</td>\n",
              "      <td>152</td>\n",
              "      <td>133</td>\n",
              "      <td>142</td>\n",
              "      <td>163</td>\n",
              "      <td>148</td>\n",
              "      <td>130</td>\n",
              "      <td>164</td>\n",
              "      <td>155</td>\n",
              "      <td>151</td>\n",
              "      <td>156</td>\n",
              "    </tr>\n",
              "  </tbody>\n",
              "</table>\n",
              "</div>"
            ],
            "text/plain": [
              "                                                                                                                                                                                                                                                                                                                                                                                                                                                                                                                    Context  ...    Distractor_8\n",
              "count                                                                                                                                                                                                                                                                                                                                                                                                                                                                                                                 18920  ...           18920\n",
              "unique                                                                                                                                                                                                                                                                                                                                                                                                                                                                                                                18920  ...           14202\n",
              "top     howto fix a corrupt square mouse pointer every cold boot in precise?(ati grafix card) __eou__ __eot__ were you here yesterday or so with same problem ? __eou__ did you try restarting x ? __eou__ sudo service login-manager restart __eou__ probably not __eou__ however if restrting x makes it go away then there may be a setting in your x config to fix it __eou__ __eot__ whats up mate __eou__ i got the square mouse away, but compiz doesnt run anymore __eou__ __eot__ nada raping a ftp server with...  ...  thanks __eou__\n",
              "freq                                                                                                                                                                                                                                                                                                                                                                                                                                                                                                                      1  ...             156\n",
              "\n",
              "[4 rows x 11 columns]"
            ]
          },
          "metadata": {
            "tags": []
          },
          "execution_count": 10
        }
      ]
    },
    {
      "cell_type": "markdown",
      "metadata": {
        "id": "9oYfdJtjPKvF",
        "colab_type": "text"
      },
      "source": [
        "### 基线模型：random guess \n",
        "* 评估y中前K个后选中是否存在正确的标签，存在则count++，统计"
      ]
    },
    {
      "cell_type": "code",
      "metadata": {
        "id": "jfUH0F13nSlR",
        "colab_type": "code",
        "colab": {}
      },
      "source": [
        "import pandas as pd\n",
        "import numpy as np\n",
        "from sklearn.feature_extraction.text import TfidfVectorizer\n",
        "from sklearn.feature_extraction.text import TfidfTransformer"
      ],
      "execution_count": null,
      "outputs": []
    },
    {
      "cell_type": "code",
      "metadata": {
        "id": "Tlh56AEinSi8",
        "colab_type": "code",
        "colab": {}
      },
      "source": [
        "# Load Data\n",
        "train_df = pd.read_csv(\"/content/drive/My Drive/chatBot/train (1).csv\")\n",
        "test_df = pd.read_csv(\"/content/drive/My Drive/chatBot/test.csv\")\n",
        "validation_df = pd.read_csv(\"/content/drive/My Drive/chatBot/valid.csv\")"
      ],
      "execution_count": null,
      "outputs": []
    },
    {
      "cell_type": "code",
      "metadata": {
        "id": "D65i_UOGnSg1",
        "colab_type": "code",
        "colab": {
          "base_uri": "https://localhost:8080/",
          "height": 34
        },
        "outputId": "d77afbdf-9d52-449d-ec36-df169b755ebd"
      },
      "source": [
        "y_test = np.zeros(len(test_df))\n",
        "y_test"
      ],
      "execution_count": null,
      "outputs": [
        {
          "output_type": "execute_result",
          "data": {
            "text/plain": [
              "array([0., 0., 0., ..., 0., 0., 0.])"
            ]
          },
          "metadata": {
            "tags": []
          },
          "execution_count": 5
        }
      ]
    },
    {
      "cell_type": "code",
      "metadata": {
        "id": "XCST6E8enSWI",
        "colab_type": "code",
        "colab": {}
      },
      "source": [
        "def evaluate_recall(y, y_test, k=1):\n",
        "    num_examples = float(len(y))\n",
        "    num_correct = 0\n",
        "    for predictions, label in zip(y, y_test):\n",
        "        if label in predictions[:k]:#评估y中前K个后选中是否存在正确的标签，存在则count++，统计\n",
        "            num_correct += 1\n",
        "    return num_correct/num_examples"
      ],
      "execution_count": null,
      "outputs": []
    },
    {
      "cell_type": "code",
      "metadata": {
        "id": "etl9MeqGnSTt",
        "colab_type": "code",
        "colab": {}
      },
      "source": [
        "def predict_random(context, utterances):\n",
        "    return np.random.choice(len(utterances), 10, replace=False)"
      ],
      "execution_count": null,
      "outputs": []
    },
    {
      "cell_type": "code",
      "metadata": {
        "id": "dVGTSfTHnSRr",
        "colab_type": "code",
        "colab": {
          "base_uri": "https://localhost:8080/",
          "height": 85
        },
        "outputId": "b992000c-d82c-4835-f81b-cb3d9dad9321"
      },
      "source": [
        "# Evaluate Random predictor\n",
        "y_random = [predict_random(test_df.Context[x], test_df.iloc[x,1:].values) for x in range(len(test_df))]\n",
        "for n in [1, 2, 5, 10]:\n",
        "    print(\"Recall @ ({}, 10): {:g}\".format(n, evaluate_recall(y_random, y_test, n)))"
      ],
      "execution_count": null,
      "outputs": [
        {
          "output_type": "stream",
          "text": [
            "Recall @ (1, 10): 0.0986786\n",
            "Recall @ (2, 10): 0.199313\n",
            "Recall @ (5, 10): 0.497093\n",
            "Recall @ (10, 10): 1\n"
          ],
          "name": "stdout"
        }
      ]
    },
    {
      "cell_type": "markdown",
      "metadata": {
        "id": "J9vr8l98AKwl",
        "colab_type": "text"
      },
      "source": [
        "### 基线模型：TF-IDF检索"
      ]
    },
    {
      "cell_type": "code",
      "metadata": {
        "id": "eGChjkbzQAfL",
        "colab_type": "code",
        "colab": {}
      },
      "source": [
        "from sklearn.feature_extraction.text import TfidfVectorizer\n",
        "from sklearn.feature_extraction.text import TfidfTransformer\n",
        "\n",
        "class TFIDFPredictor:\n",
        "    def __init__(self):\n",
        "        self.vectorizer = TfidfVectorizer()\n",
        "\n",
        "    def train(self, data):\n",
        "        self.vectorizer.fit(np.append(data.Context.values,data.Utterance.values))\n",
        "\n",
        "    def predict(self, context, utterances):\n",
        "        # Convert context and utterances into tfidf vector\n",
        "        vector_context = self.vectorizer.transform([context])\n",
        "        vector_doc = self.vectorizer.transform(utterances)\n",
        "        # The dot product measures the similarity of the resulting vectors\n",
        "        result = np.dot(vector_doc, vector_context.T).todense()\n",
        "        result = np.asarray(result).flatten()\n",
        "        # Sort by top results and return the indices in descending order\n",
        "        return np.argsort(result, axis=0)[::-1]"
      ],
      "execution_count": null,
      "outputs": []
    },
    {
      "cell_type": "code",
      "metadata": {
        "id": "UyXrIJReQAiG",
        "colab_type": "code",
        "colab": {
          "base_uri": "https://localhost:8080/",
          "height": 85
        },
        "outputId": "5664936c-a10a-4c22-f475-d9bc964bff91"
      },
      "source": [
        "# Evaluate TFIDF predictor\n",
        "pred = TFIDFPredictor()\n",
        "pred.train(train_df)\n",
        "y = [pred.predict(test_df.Context[x], test_df.iloc[x,1:].values) for x in range(len(test_df))]\n",
        "for n in [1, 2, 5, 10]:\n",
        "    print(\"Recall @ ({}, 10): {:g}\".format(n, evaluate_recall(y, y_test, n)))"
      ],
      "execution_count": null,
      "outputs": [
        {
          "output_type": "stream",
          "text": [
            "Recall @ (1, 10): 0.485624\n",
            "Recall @ (2, 10): 0.586681\n",
            "Recall @ (5, 10): 0.762474\n",
            "Recall @ (10, 10): 1\n"
          ],
          "name": "stdout"
        }
      ]
    },
    {
      "cell_type": "markdown",
      "metadata": {
        "id": "y3h4SRxX9KMm",
        "colab_type": "text"
      },
      "source": [
        "### example\n",
        "* seklearn总对于CounterVectorizer、TfidfTransformer、TfidfVectorizer的理解\n",
        "* https://blog.csdn.net/m0_37324740/article/details/79411651\n",
        "* https://scikit-learn.org/stable/modules/classes.html#module-sklearn.feature_extraction.text"
      ]
    },
    {
      "cell_type": "code",
      "metadata": {
        "id": "CGrigO29QAc2",
        "colab_type": "code",
        "colab": {}
      },
      "source": [
        "from sklearn.feature_extraction.text import CountVectorizer\n",
        " \n",
        "vectorizer = CountVectorizer(min_df=1)\n",
        " \n",
        "corpus = [\n",
        "        'This is the first document.',\n",
        "    \t\t'This is the second second document.',\n",
        "    \t\t'And the third one.',\n",
        "\t\t    'Is this the first document?',\n",
        "\t\t]\n",
        "X = vectorizer.fit_transform(corpus)\n",
        "feature_name = vectorizer.get_feature_names()"
      ],
      "execution_count": null,
      "outputs": []
    },
    {
      "cell_type": "code",
      "metadata": {
        "id": "oIdYqzqgnSPr",
        "colab_type": "code",
        "colab": {
          "base_uri": "https://localhost:8080/",
          "height": 493
        },
        "outputId": "da630953-870f-4539-e4df-43e30009d712"
      },
      "source": [
        "print(feature_name)#获取词袋模型文本的所有关键字\n",
        "print(\"\\n\")\n",
        "print(X.toarray())#看到词频矩阵\n",
        "print(\"\\n\")\n",
        "print(X)#举证中出现则+1，否则为0"
      ],
      "execution_count": null,
      "outputs": [
        {
          "output_type": "stream",
          "text": [
            "['and', 'document', 'first', 'is', 'one', 'second', 'the', 'third', 'this']\n",
            "\n",
            "\n",
            "[[0 1 1 1 0 0 1 0 1]\n",
            " [0 1 0 1 0 2 1 0 1]\n",
            " [1 0 0 0 1 0 1 1 0]\n",
            " [0 1 1 1 0 0 1 0 1]]\n",
            "\n",
            "\n",
            "  (0, 8)\t1\n",
            "  (0, 3)\t1\n",
            "  (0, 6)\t1\n",
            "  (0, 2)\t1\n",
            "  (0, 1)\t1\n",
            "  (1, 8)\t1\n",
            "  (1, 3)\t1\n",
            "  (1, 6)\t1\n",
            "  (1, 1)\t1\n",
            "  (1, 5)\t2\n",
            "  (2, 6)\t1\n",
            "  (2, 0)\t1\n",
            "  (2, 7)\t1\n",
            "  (2, 4)\t1\n",
            "  (3, 8)\t1\n",
            "  (3, 3)\t1\n",
            "  (3, 6)\t1\n",
            "  (3, 2)\t1\n",
            "  (3, 1)\t1\n"
          ],
          "name": "stdout"
        }
      ]
    },
    {
      "cell_type": "code",
      "metadata": {
        "id": "yJ8yGLDr8l9U",
        "colab_type": "code",
        "colab": {
          "base_uri": "https://localhost:8080/",
          "height": 340
        },
        "outputId": "653b4535-f7af-4e4a-cff5-bd57585d6d32"
      },
      "source": [
        "from sklearn.feature_extraction.text import TfidfTransformer \n",
        "from sklearn.feature_extraction.text import CountVectorizer \n",
        " \n",
        " \n",
        "corpus = [\n",
        "    'This is the first document.',\n",
        "\t\t'This is the second second document.',\n",
        "\t\t'And the third one.',\n",
        "\t\t'Is this the first document?',\n",
        "\t\t]\n",
        " \n",
        "vectorizer=CountVectorizer()\n",
        " \n",
        "transformer = TfidfTransformer()\n",
        "tfidf = transformer.fit_transform(vectorizer.fit_transform(corpus)) \n",
        "print (tfidf)"
      ],
      "execution_count": null,
      "outputs": [
        {
          "output_type": "stream",
          "text": [
            "  (0, 8)\t0.4387767428592343\n",
            "  (0, 6)\t0.35872873824808993\n",
            "  (0, 3)\t0.4387767428592343\n",
            "  (0, 2)\t0.5419765697264572\n",
            "  (0, 1)\t0.4387767428592343\n",
            "  (1, 8)\t0.2723014675233404\n",
            "  (1, 6)\t0.22262429232510395\n",
            "  (1, 5)\t0.8532257361452786\n",
            "  (1, 3)\t0.2723014675233404\n",
            "  (1, 1)\t0.2723014675233404\n",
            "  (2, 7)\t0.5528053199908667\n",
            "  (2, 6)\t0.2884767487500274\n",
            "  (2, 4)\t0.5528053199908667\n",
            "  (2, 0)\t0.5528053199908667\n",
            "  (3, 8)\t0.4387767428592343\n",
            "  (3, 6)\t0.35872873824808993\n",
            "  (3, 3)\t0.4387767428592343\n",
            "  (3, 2)\t0.5419765697264572\n",
            "  (3, 1)\t0.4387767428592343\n"
          ],
          "name": "stdout"
        }
      ]
    },
    {
      "cell_type": "code",
      "metadata": {
        "id": "424MMvZd8mr5",
        "colab_type": "code",
        "colab": {}
      },
      "source": [
        "from sklearn.feature_extraction.text import TfidfVectorizer\n",
        "tfidf2 = TfidfVectorizer()\n",
        "re = tfidf2.fit_transform(corpus)\n",
        "print (re)"
      ],
      "execution_count": null,
      "outputs": []
    },
    {
      "cell_type": "code",
      "metadata": {
        "id": "ht4ssr0n8mu2",
        "colab_type": "code",
        "colab": {
          "base_uri": "https://localhost:8080/",
          "height": 340
        },
        "outputId": "b0943cf8-96a6-4c11-ef05-2578a4cdd66f"
      },
      "source": [
        "from sklearn.feature_extraction.text import TfidfVectorizer\n",
        "tfidf2 = TfidfVectorizer()\n",
        "re = tfidf2.fit_transform(corpus)\n",
        "print (re)"
      ],
      "execution_count": null,
      "outputs": [
        {
          "output_type": "stream",
          "text": [
            "  (0, 1)\t0.4387767428592343\n",
            "  (0, 2)\t0.5419765697264572\n",
            "  (0, 6)\t0.35872873824808993\n",
            "  (0, 3)\t0.4387767428592343\n",
            "  (0, 8)\t0.4387767428592343\n",
            "  (1, 5)\t0.8532257361452786\n",
            "  (1, 1)\t0.2723014675233404\n",
            "  (1, 6)\t0.22262429232510395\n",
            "  (1, 3)\t0.2723014675233404\n",
            "  (1, 8)\t0.2723014675233404\n",
            "  (2, 4)\t0.5528053199908667\n",
            "  (2, 7)\t0.5528053199908667\n",
            "  (2, 0)\t0.5528053199908667\n",
            "  (2, 6)\t0.2884767487500274\n",
            "  (3, 1)\t0.4387767428592343\n",
            "  (3, 2)\t0.5419765697264572\n",
            "  (3, 6)\t0.35872873824808993\n",
            "  (3, 3)\t0.4387767428592343\n",
            "  (3, 8)\t0.4387767428592343\n"
          ],
          "name": "stdout"
        }
      ]
    },
    {
      "cell_type": "markdown",
      "metadata": {
        "id": "uH8nWPOqxPc4",
        "colab_type": "text"
      },
      "source": [
        "### 神经网络建模"
      ]
    },
    {
      "cell_type": "markdown",
      "metadata": {
        "id": "AEedxQZOyu87",
        "colab_type": "text"
      },
      "source": [
        "代码参考文件"
      ]
    },
    {
      "cell_type": "code",
      "metadata": {
        "id": "KbGogTc8abvf",
        "colab_type": "code",
        "colab": {
          "base_uri": "https://localhost:8080/",
          "height": 34
        },
        "outputId": "d0ee8c1e-0d4b-417f-dc9b-5102fd6058d9"
      },
      "source": [
        "cd /content/drive/My Drive"
      ],
      "execution_count": 4,
      "outputs": [
        {
          "output_type": "stream",
          "text": [
            "/content/drive/My Drive\n"
          ],
          "name": "stdout"
        }
      ]
    },
    {
      "cell_type": "code",
      "metadata": {
        "id": "hBf_F45vadH_",
        "colab_type": "code",
        "colab": {
          "base_uri": "https://localhost:8080/",
          "height": 51
        },
        "outputId": "b149d257-068c-4f9f-8828-cc8fe48ac0c5"
      },
      "source": [
        "ls"
      ],
      "execution_count": 5,
      "outputs": [
        {
          "output_type": "stream",
          "text": [
            " \u001b[0m\u001b[01;34mbot\u001b[0m/       \u001b[01;34mchatbot-retrieval\u001b[0m/   \u001b[01;34mdatasets\u001b[0m/   \u001b[01;34mtemp\u001b[0m/   \u001b[01;34mxiamen\u001b[0m/\n",
            " \u001b[01;34mchatBot\u001b[0m/  \u001b[01;34m'Colab Notebooks'\u001b[0m/    \u001b[01;34mHUAWEI\u001b[0m/     \u001b[01;34mVQA\u001b[0m/    入职文件.zip\n"
          ],
          "name": "stdout"
        }
      ]
    },
    {
      "cell_type": "code",
      "metadata": {
        "id": "eZrRXXKkUZgD",
        "colab_type": "code",
        "colab": {
          "base_uri": "https://localhost:8080/",
          "height": 136
        },
        "outputId": "fc18d6b3-46b0-44b0-9120-301c5a2a5efe"
      },
      "source": [
        "#!git clone https://github.com/dennybritz/chatbot-retrieval"
      ],
      "execution_count": null,
      "outputs": [
        {
          "output_type": "stream",
          "text": [
            "Cloning into 'chatbot-retrieval'...\n",
            "remote: Enumerating objects: 3, done.\u001b[K\n",
            "remote: Counting objects: 100% (3/3), done.\u001b[K\n",
            "remote: Compressing objects: 100% (3/3), done.\u001b[K\n",
            "remote: Total 392 (delta 0), reused 0 (delta 0), pack-reused 389\u001b[K\n",
            "Receiving objects: 100% (392/392), 19.63 MiB | 7.40 MiB/s, done.\n",
            "Resolving deltas: 100% (225/225), done.\n"
          ],
          "name": "stdout"
        }
      ]
    },
    {
      "cell_type": "code",
      "metadata": {
        "id": "nwSfKXWSaSGG",
        "colab_type": "code",
        "colab": {
          "base_uri": "https://localhost:8080/",
          "height": 34
        },
        "outputId": "0f7703e7-eede-4757-ede7-e1603a0b0c3e"
      },
      "source": [
        "cd chatbot-retrieval/"
      ],
      "execution_count": 6,
      "outputs": [
        {
          "output_type": "stream",
          "text": [
            "/content/drive/My Drive/chatbot-retrieval\n"
          ],
          "name": "stdout"
        }
      ]
    },
    {
      "cell_type": "code",
      "metadata": {
        "id": "85ymeWTWUsP8",
        "colab_type": "code",
        "colab": {
          "base_uri": "https://localhost:8080/",
          "height": 68
        },
        "outputId": "75d4c943-a573-460e-ac17-912f873273b1"
      },
      "source": [
        "ls"
      ],
      "execution_count": 7,
      "outputs": [
        {
          "output_type": "stream",
          "text": [
            "\u001b[0m\u001b[01;34mdata\u001b[0m/    \u001b[01;34mnotebooks\u001b[0m/    requirements.txt  udc_inputs.py   udc_predict.py\n",
            "LICENSE  \u001b[01;34m__pycache__\u001b[0m/  \u001b[01;34mscripts\u001b[0m/          udc_metrics.py  udc_test.py\n",
            "\u001b[01;34mmodels\u001b[0m/  README.md     udc_hparams.py    udc_model.py    udc_train.py\n"
          ],
          "name": "stdout"
        }
      ]
    },
    {
      "cell_type": "code",
      "metadata": {
        "id": "cDMVEvHVTQSS",
        "colab_type": "code",
        "colab": {
          "base_uri": "https://localhost:8080/",
          "height": 1000
        },
        "outputId": "5ed853e0-75be-404d-eaf7-1d268eea9a74"
      },
      "source": [
        "!python udc_train.py"
      ],
      "execution_count": 14,
      "outputs": [
        {
          "output_type": "stream",
          "text": [
            "WARNING:tensorflow:From udc_train.py:28: The name tf.logging.set_verbosity is deprecated. Please use tf.compat.v1.logging.set_verbosity instead.\n",
            "\n",
            "WARNING:tensorflow:From udc_train.py:64: The name tf.app.run is deprecated. Please use tf.compat.v1.app.run instead.\n",
            "\n",
            "WARNING:tensorflow:\n",
            "The TensorFlow contrib module will not be included in TensorFlow 2.0.\n",
            "For more information, please see:\n",
            "  * https://github.com/tensorflow/community/blob/master/rfcs/20180907-contrib-sunset.md\n",
            "  * https://github.com/tensorflow/addons\n",
            "  * https://github.com/tensorflow/io (for I/O related ops)\n",
            "If you depend on functionality not listed there, please file an issue.\n",
            "\n",
            "W0828 09:46:21.833918 139745635493760 lazy_loader.py:50] \n",
            "The TensorFlow contrib module will not be included in TensorFlow 2.0.\n",
            "For more information, please see:\n",
            "  * https://github.com/tensorflow/community/blob/master/rfcs/20180907-contrib-sunset.md\n",
            "  * https://github.com/tensorflow/addons\n",
            "  * https://github.com/tensorflow/io (for I/O related ops)\n",
            "If you depend on functionality not listed there, please file an issue.\n",
            "\n",
            "WARNING:tensorflow:From udc_train.py:40: RunConfig.__init__ (from tensorflow.contrib.learn.python.learn.estimators.run_config) is deprecated and will be removed in a future version.\n",
            "Instructions for updating:\n",
            "When switching to tf.estimator.Estimator, use tf.estimator.RunConfig instead.\n",
            "W0828 09:46:21.834181 139745635493760 deprecation.py:323] From udc_train.py:40: RunConfig.__init__ (from tensorflow.contrib.learn.python.learn.estimators.run_config) is deprecated and will be removed in a future version.\n",
            "Instructions for updating:\n",
            "When switching to tf.estimator.Estimator, use tf.estimator.RunConfig instead.\n",
            "WARNING:tensorflow:From /tensorflow-1.15.2/python3.6/tensorflow_core/contrib/learn/python/learn/estimators/estimator.py:1180: BaseEstimator.__init__ (from tensorflow.contrib.learn.python.learn.estimators.estimator) is deprecated and will be removed in a future version.\n",
            "Instructions for updating:\n",
            "Please replace uses of any Estimator from tf.contrib.learn with an Estimator from tf.estimator.*\n",
            "W0828 09:46:21.834500 139745635493760 deprecation.py:323] From /tensorflow-1.15.2/python3.6/tensorflow_core/contrib/learn/python/learn/estimators/estimator.py:1180: BaseEstimator.__init__ (from tensorflow.contrib.learn.python.learn.estimators.estimator) is deprecated and will be removed in a future version.\n",
            "Instructions for updating:\n",
            "Please replace uses of any Estimator from tf.contrib.learn with an Estimator from tf.estimator.*\n",
            "INFO:tensorflow:Using config: {'_task_type': None, '_task_id': 0, '_cluster_spec': <tensorflow.python.training.server_lib.ClusterSpec object at 0x7f18a4300080>, '_master': '', '_num_ps_replicas': 0, '_num_worker_replicas': 0, '_environment': 'local', '_is_chief': True, '_evaluation_master': '', '_train_distribute': None, '_eval_distribute': None, '_experimental_max_worker_delay_secs': None, '_device_fn': None, '_tf_config': gpu_options {\n",
            "  per_process_gpu_memory_fraction: 1.0\n",
            "}\n",
            ", '_tf_random_seed': None, '_save_summary_steps': 100, '_save_checkpoints_secs': 600, '_log_step_count_steps': 100, '_protocol': None, '_session_config': None, '_save_checkpoints_steps': None, '_keep_checkpoint_max': 5, '_keep_checkpoint_every_n_hours': 10000, '_model_dir': '/content/drive/My Drive/chatbot-retrieval/runs/1598607981', '_session_creation_timeout_secs': 7200}\n",
            "I0828 09:46:21.834816 139745635493760 estimator.py:456] Using config: {'_task_type': None, '_task_id': 0, '_cluster_spec': <tensorflow.python.training.server_lib.ClusterSpec object at 0x7f18a4300080>, '_master': '', '_num_ps_replicas': 0, '_num_worker_replicas': 0, '_environment': 'local', '_is_chief': True, '_evaluation_master': '', '_train_distribute': None, '_eval_distribute': None, '_experimental_max_worker_delay_secs': None, '_device_fn': None, '_tf_config': gpu_options {\n",
            "  per_process_gpu_memory_fraction: 1.0\n",
            "}\n",
            ", '_tf_random_seed': None, '_save_summary_steps': 100, '_save_checkpoints_secs': 600, '_log_step_count_steps': 100, '_protocol': None, '_session_config': None, '_save_checkpoints_steps': None, '_keep_checkpoint_max': 5, '_keep_checkpoint_every_n_hours': 10000, '_model_dir': '/content/drive/My Drive/chatbot-retrieval/runs/1598607981', '_session_creation_timeout_secs': 7200}\n",
            "WARNING:tensorflow:From /content/drive/My Drive/chatbot-retrieval/udc_metrics.py:11: MetricSpec.__init__ (from tensorflow.contrib.learn.python.learn.metric_spec) is deprecated and will be removed in a future version.\n",
            "Instructions for updating:\n",
            "Use tf.estimator.EstimatorSpec.eval_metric_ops.\n",
            "W0828 09:46:21.835674 139745635493760 deprecation.py:323] From /content/drive/My Drive/chatbot-retrieval/udc_metrics.py:11: MetricSpec.__init__ (from tensorflow.contrib.learn.python.learn.metric_spec) is deprecated and will be removed in a future version.\n",
            "Instructions for updating:\n",
            "Use tf.estimator.EstimatorSpec.eval_metric_ops.\n",
            "WARNING:tensorflow:From /tensorflow-1.15.2/python3.6/tensorflow_core/contrib/learn/python/learn/monitors.py:279: BaseMonitor.__init__ (from tensorflow.contrib.learn.python.learn.monitors) is deprecated and will be removed after 2016-12-05.\n",
            "Instructions for updating:\n",
            "Monitors are deprecated. Please use tf.train.SessionRunHook.\n",
            "W0828 09:46:21.836106 139745635493760 deprecation.py:323] From /tensorflow-1.15.2/python3.6/tensorflow_core/contrib/learn/python/learn/monitors.py:279: BaseMonitor.__init__ (from tensorflow.contrib.learn.python.learn.monitors) is deprecated and will be removed after 2016-12-05.\n",
            "Instructions for updating:\n",
            "Monitors are deprecated. Please use tf.train.SessionRunHook.\n",
            "WARNING:tensorflow:From /content/drive/My Drive/chatbot-retrieval/udc_inputs.py:46: read_batch_features (from tensorflow.contrib.learn.python.learn.learn_io.graph_io) is deprecated and will be removed in a future version.\n",
            "Instructions for updating:\n",
            "Use tf.data.\n",
            "W0828 09:46:21.841871 139745635493760 deprecation.py:323] From /content/drive/My Drive/chatbot-retrieval/udc_inputs.py:46: read_batch_features (from tensorflow.contrib.learn.python.learn.learn_io.graph_io) is deprecated and will be removed in a future version.\n",
            "Instructions for updating:\n",
            "Use tf.data.\n",
            "WARNING:tensorflow:From /tensorflow-1.15.2/python3.6/tensorflow_core/contrib/learn/python/learn/learn_io/graph_io.py:833: read_keyed_batch_features (from tensorflow.contrib.learn.python.learn.learn_io.graph_io) is deprecated and will be removed in a future version.\n",
            "Instructions for updating:\n",
            "Use tf.data.\n",
            "W0828 09:46:21.842051 139745635493760 deprecation.py:323] From /tensorflow-1.15.2/python3.6/tensorflow_core/contrib/learn/python/learn/learn_io/graph_io.py:833: read_keyed_batch_features (from tensorflow.contrib.learn.python.learn.learn_io.graph_io) is deprecated and will be removed in a future version.\n",
            "Instructions for updating:\n",
            "Use tf.data.\n",
            "WARNING:tensorflow:From /tensorflow-1.15.2/python3.6/tensorflow_core/contrib/learn/python/learn/learn_io/graph_io.py:542: read_keyed_batch_examples (from tensorflow.contrib.learn.python.learn.learn_io.graph_io) is deprecated and will be removed in a future version.\n",
            "Instructions for updating:\n",
            "Use tf.data.\n",
            "W0828 09:46:21.842256 139745635493760 deprecation.py:323] From /tensorflow-1.15.2/python3.6/tensorflow_core/contrib/learn/python/learn/learn_io/graph_io.py:542: read_keyed_batch_examples (from tensorflow.contrib.learn.python.learn.learn_io.graph_io) is deprecated and will be removed in a future version.\n",
            "Instructions for updating:\n",
            "Use tf.data.\n",
            "Traceback (most recent call last):\n",
            "  File \"udc_train.py\", line 64, in <module>\n",
            "    tf.app.run()\n",
            "  File \"/tensorflow-1.15.2/python3.6/tensorflow_core/python/platform/app.py\", line 40, in run\n",
            "    _run(main=main, argv=argv, flags_parser=_parse_flags_tolerate_undef)\n",
            "  File \"/usr/local/lib/python3.6/dist-packages/absl/app.py\", line 299, in run\n",
            "    _run_main(main, args)\n",
            "  File \"/usr/local/lib/python3.6/dist-packages/absl/app.py\", line 250, in _run_main\n",
            "    sys.exit(main(argv))\n",
            "  File \"udc_train.py\", line 61, in main\n",
            "    estimator.fit(input_fn=input_fn_train, steps=None, monitors=[eval_monitor])\n",
            "  File \"/tensorflow-1.15.2/python3.6/tensorflow_core/python/util/deprecation.py\", line 507, in new_func\n",
            "    return func(*args, **kwargs)\n",
            "  File \"/tensorflow-1.15.2/python3.6/tensorflow_core/contrib/learn/python/learn/estimators/estimator.py\", line 524, in fit\n",
            "    loss = self._train_model(input_fn=input_fn, hooks=hooks)\n",
            "  File \"/tensorflow-1.15.2/python3.6/tensorflow_core/contrib/learn/python/learn/estimators/estimator.py\", line 1038, in _train_model\n",
            "    features, labels = input_fn()\n",
            "  File \"/content/drive/My Drive/chatbot-retrieval/udc_inputs.py\", line 46, in input_fn\n",
            "    name=\"read_batch_features_{}\".format(mode))\n",
            "  File \"/tensorflow-1.15.2/python3.6/tensorflow_core/python/util/deprecation.py\", line 324, in new_func\n",
            "    return func(*args, **kwargs)\n",
            "  File \"/tensorflow-1.15.2/python3.6/tensorflow_core/contrib/learn/python/learn/learn_io/graph_io.py\", line 833, in read_batch_features\n",
            "    name=name)\n",
            "  File \"/tensorflow-1.15.2/python3.6/tensorflow_core/python/util/deprecation.py\", line 324, in new_func\n",
            "    return func(*args, **kwargs)\n",
            "  File \"/tensorflow-1.15.2/python3.6/tensorflow_core/contrib/learn/python/learn/learn_io/graph_io.py\", line 542, in read_keyed_batch_features\n",
            "    name=scope)\n",
            "  File \"/tensorflow-1.15.2/python3.6/tensorflow_core/python/util/deprecation.py\", line 324, in new_func\n",
            "    return func(*args, **kwargs)\n",
            "  File \"/tensorflow-1.15.2/python3.6/tensorflow_core/contrib/learn/python/learn/learn_io/graph_io.py\", line 183, in read_keyed_batch_examples\n",
            "    seed=seed)\n",
            "  File \"/tensorflow-1.15.2/python3.6/tensorflow_core/contrib/learn/python/learn/learn_io/graph_io.py\", line 386, in _read_keyed_batch_examples_helper\n",
            "    file_names = _get_file_names(file_pattern, randomize_input)\n",
            "  File \"/tensorflow-1.15.2/python3.6/tensorflow_core/contrib/learn/python/learn/learn_io/graph_io.py\", line 282, in _get_file_names\n",
            "    raise ValueError('No files match %s.' % file_pattern)\n",
            "ValueError: No files match ['/content/drive/My Drive/chatbot-retrieval/data/train.tfrecords'].\n"
          ],
          "name": "stdout"
        }
      ]
    },
    {
      "cell_type": "code",
      "metadata": {
        "id": "Tmu9IRyeWaEc",
        "colab_type": "code",
        "cellView": "both",
        "colab": {
          "base_uri": "https://localhost:8080/",
          "height": 35
        },
        "outputId": "b6643694-b705-4740-dc0d-8f9fb0710ad4"
      },
      "source": [
        "# %tensorflow_version 1.15.2\n",
        "# import tensorflow as tf\n",
        "# tf.__version__"
      ],
      "execution_count": 13,
      "outputs": [
        {
          "output_type": "execute_result",
          "data": {
            "application/vnd.google.colaboratory.intrinsic+json": {
              "type": "string"
            },
            "text/plain": [
              "'1.15.2'"
            ]
          },
          "metadata": {
            "tags": []
          },
          "execution_count": 13
        }
      ]
    },
    {
      "cell_type": "code",
      "metadata": {
        "id": "zfVTgCHXeH4Q",
        "colab_type": "code",
        "colab": {}
      },
      "source": [
        "!python udc_test.py --model_dir=..."
      ],
      "execution_count": null,
      "outputs": []
    },
    {
      "cell_type": "code",
      "metadata": {
        "id": "k8XnlMcneKYl",
        "colab_type": "code",
        "colab": {}
      },
      "source": [
        "!python udc_predict.py --model_dir=..."
      ],
      "execution_count": null,
      "outputs": []
    },
    {
      "cell_type": "code",
      "metadata": {
        "id": "_FZl8UmnWaHi",
        "colab_type": "code",
        "colab": {},
        "cellView": "both"
      },
      "source": [
        ""
      ],
      "execution_count": 10,
      "outputs": []
    }
  ]
}